{
 "cells": [
  {
   "cell_type": "code",
   "execution_count": 2,
   "metadata": {},
   "outputs": [],
   "source": [
    "import pandas as pd\n",
    "import os\n",
    "import torch\n",
    "import numpy as np\n",
    "import nltk\n",
    "import string\n",
    "from tqdm.notebook import tqdm"
   ]
  },
  {
   "cell_type": "code",
   "execution_count": 43,
   "metadata": {},
   "outputs": [],
   "source": [
    "embed_size = 300\n",
    "batch_size = 10"
   ]
  },
  {
   "cell_type": "code",
   "execution_count": 44,
   "metadata": {},
   "outputs": [
    {
     "data": {
      "text/plain": [
       "<torch._C.Generator at 0x1b391e30bd0>"
      ]
     },
     "execution_count": 44,
     "metadata": {},
     "output_type": "execute_result"
    }
   ],
   "source": [
    "torch.manual_seed(0)"
   ]
  },
  {
   "cell_type": "code",
   "execution_count": 45,
   "metadata": {},
   "outputs": [],
   "source": [
    "inputs = np.load('train_w2v_embeds.npy')"
   ]
  },
  {
   "cell_type": "code",
   "execution_count": 46,
   "metadata": {},
   "outputs": [
    {
     "data": {
      "text/plain": [
       "(15716, 8, 300, 1)"
      ]
     },
     "execution_count": 46,
     "metadata": {},
     "output_type": "execute_result"
    }
   ],
   "source": [
    "inputs.shape"
   ]
  },
  {
   "cell_type": "code",
   "execution_count": 47,
   "metadata": {},
   "outputs": [
    {
     "data": {
      "text/plain": [
       "(15716, 1, 8, 300)"
      ]
     },
     "execution_count": 47,
     "metadata": {},
     "output_type": "execute_result"
    }
   ],
   "source": [
    "inputs = np.transpose(inputs, (0, 3, 1, 2))\n",
    "inputs.shape"
   ]
  },
  {
   "cell_type": "code",
   "execution_count": 48,
   "metadata": {},
   "outputs": [],
   "source": [
    "labels = np.load('labels_train_embeds.npy')"
   ]
  },
  {
   "cell_type": "code",
   "execution_count": 49,
   "metadata": {},
   "outputs": [],
   "source": [
    "labels = np.array([int(i) for i in labels], dtype = np.int64)"
   ]
  },
  {
   "cell_type": "code",
   "execution_count": 50,
   "metadata": {},
   "outputs": [
    {
     "data": {
      "text/plain": [
       "(15716,)"
      ]
     },
     "execution_count": 50,
     "metadata": {},
     "output_type": "execute_result"
    }
   ],
   "source": [
    "labels.shape"
   ]
  },
  {
   "cell_type": "code",
   "execution_count": 51,
   "metadata": {},
   "outputs": [
    {
     "data": {
      "text/plain": [
       "array([1, 1, 1, ..., 0, 0, 0], dtype=int64)"
      ]
     },
     "execution_count": 51,
     "metadata": {},
     "output_type": "execute_result"
    }
   ],
   "source": [
    "labels"
   ]
  },
  {
   "cell_type": "code",
   "execution_count": 52,
   "metadata": {},
   "outputs": [
    {
     "data": {
      "text/plain": [
       "torch.Size([15716, 1, 8, 300])"
      ]
     },
     "execution_count": 52,
     "metadata": {},
     "output_type": "execute_result"
    }
   ],
   "source": [
    "inputs = torch.from_numpy(inputs)\n",
    "inputs.shape"
   ]
  },
  {
   "cell_type": "code",
   "execution_count": 53,
   "metadata": {},
   "outputs": [
    {
     "data": {
      "text/plain": [
       "torch.Size([15716])"
      ]
     },
     "execution_count": 53,
     "metadata": {},
     "output_type": "execute_result"
    }
   ],
   "source": [
    "labels = torch.LongTensor(labels)\n",
    "labels.shape"
   ]
  },
  {
   "cell_type": "code",
   "execution_count": 54,
   "metadata": {},
   "outputs": [],
   "source": [
    "dataset = torch.utils.data.TensorDataset(inputs, labels)"
   ]
  },
  {
   "cell_type": "code",
   "execution_count": 55,
   "metadata": {},
   "outputs": [],
   "source": [
    "class RepEncoder(torch.nn.Module):\n",
    "    def __init__(self):\n",
    "        super().__init__()\n",
    "        self.conv = torch.nn.Conv2d(in_channels = 1, out_channels = 64, kernel_size = (3, embed_size))\n",
    "        self.relu = torch.nn.ReLU()\n",
    "        self.dense1 = torch.nn.Linear(in_features = 64, out_features = 32)\n",
    "        self.dense2 = torch.nn.Linear(in_features = 32, out_features = 4)\n",
    "    \n",
    "    def forward(self, inputs):\n",
    "        out = self.conv(inputs)\n",
    "        out = self.relu(out)\n",
    "        out, indices = torch.max(out, 2)\n",
    "        out = torch.flatten(out, start_dim = 1)\n",
    "        out = self.dense1(out)\n",
    "        out = self.relu(out)\n",
    "        out = self.dense2(out)\n",
    "        return out"
   ]
  },
  {
   "cell_type": "code",
   "execution_count": 56,
   "metadata": {},
   "outputs": [],
   "source": [
    "def train(epochs, batch_size):\n",
    "    model = RepEncoder()\n",
    "    model.double()\n",
    "    loss_fn = torch.nn.CrossEntropyLoss()\n",
    "    dataset = torch.utils.data.TensorDataset(inputs, labels)\n",
    "    optimizer = torch.optim.Adam(model.parameters(), lr=1e-5)\n",
    "    loader = torch.utils.data.DataLoader(dataset, sampler = torch.utils.data.RandomSampler(dataset), batch_size = batch_size)\n",
    "    for epoch in tqdm(range(epochs)):\n",
    "        for idx, data in enumerate(loader):\n",
    "            reqs, tgts = data\n",
    "            tgts.type(torch.LongTensor)\n",
    "            preds = model(reqs)\n",
    "            loss = loss_fn(preds, tgts)\n",
    "            model.zero_grad()\n",
    "            loss.backward()\n",
    "            optimizer.step()\n",
    "        print(f\"Epoch: {epoch}, loss: {loss}\")\n",
    "    torch.save(model.state_dict(), 'saved_model.pt')"
   ]
  },
  {
   "cell_type": "code",
   "execution_count": 57,
   "metadata": {
    "scrolled": true
   },
   "outputs": [
    {
     "data": {
      "application/vnd.jupyter.widget-view+json": {
       "model_id": "c8d8e7f941c04230b7e02c2d124ec5e6",
       "version_major": 2,
       "version_minor": 0
      },
      "text/plain": [
       "HBox(children=(FloatProgress(value=0.0, max=50.0), HTML(value='')))"
      ]
     },
     "metadata": {},
     "output_type": "display_data"
    },
    {
     "name": "stdout",
     "output_type": "stream",
     "text": [
      "Epoch: 0, loss: 1.3671565618130948\n",
      "Epoch: 1, loss: 1.3361929894077218\n",
      "Epoch: 2, loss: 1.3197086809254663\n",
      "Epoch: 3, loss: 1.253296788987789\n",
      "Epoch: 4, loss: 1.2466306342189215\n",
      "Epoch: 5, loss: 1.2382913746464053\n",
      "Epoch: 6, loss: 1.0588672534558758\n",
      "Epoch: 7, loss: 1.1408583850672234\n",
      "Epoch: 8, loss: 1.2143345878557894\n",
      "Epoch: 9, loss: 1.312457037698266\n",
      "Epoch: 10, loss: 1.050141476109752\n",
      "Epoch: 11, loss: 1.1316208615437489\n",
      "Epoch: 12, loss: 1.258680129415528\n",
      "Epoch: 13, loss: 1.2937292803053717\n",
      "Epoch: 14, loss: 1.531814173847142\n",
      "Epoch: 15, loss: 1.0933267179470556\n",
      "Epoch: 16, loss: 1.0179223120466259\n",
      "Epoch: 17, loss: 0.8833790983937662\n",
      "Epoch: 18, loss: 0.8281751972383632\n",
      "Epoch: 19, loss: 1.017976530766756\n",
      "Epoch: 20, loss: 0.939777539776028\n",
      "Epoch: 21, loss: 0.8415563527102243\n",
      "Epoch: 22, loss: 0.9150991844629538\n",
      "Epoch: 23, loss: 0.9096332607708434\n",
      "Epoch: 24, loss: 0.8083642412908172\n",
      "Epoch: 25, loss: 0.8671712729698807\n",
      "Epoch: 26, loss: 0.8588114800914205\n",
      "Epoch: 27, loss: 0.8772214184713244\n",
      "Epoch: 28, loss: 0.7348881764717916\n",
      "Epoch: 29, loss: 0.7860799285657464\n",
      "Epoch: 30, loss: 0.8800075078643202\n",
      "Epoch: 31, loss: 0.8177975857941897\n",
      "Epoch: 32, loss: 0.8210059837044072\n",
      "Epoch: 33, loss: 0.8050159950126023\n",
      "Epoch: 34, loss: 0.7430640460334407\n",
      "Epoch: 35, loss: 0.5727759173845283\n",
      "Epoch: 36, loss: 0.5986770038028375\n",
      "Epoch: 37, loss: 0.5401136033123295\n",
      "Epoch: 38, loss: 0.494671177788919\n",
      "Epoch: 39, loss: 0.6190306092575335\n",
      "Epoch: 40, loss: 0.5339651461211581\n",
      "Epoch: 41, loss: 0.6509479305304015\n",
      "Epoch: 42, loss: 0.4244376108133508\n",
      "Epoch: 43, loss: 0.73991636019327\n",
      "Epoch: 44, loss: 0.5338935256085553\n",
      "Epoch: 45, loss: 0.7107529008021218\n",
      "Epoch: 46, loss: 0.5352741743462994\n",
      "Epoch: 47, loss: 0.6429382065940311\n",
      "Epoch: 48, loss: 0.5500185596526341\n",
      "Epoch: 49, loss: 0.5135801085232068\n",
      "\n"
     ]
    }
   ],
   "source": [
    "train(50, 100)"
   ]
  },
  {
   "cell_type": "code",
   "execution_count": 58,
   "metadata": {},
   "outputs": [
    {
     "data": {
      "text/plain": [
       "RepEncoder(\n",
       "  (conv): Conv2d(1, 64, kernel_size=(3, 300), stride=(1, 1))\n",
       "  (relu): ReLU()\n",
       "  (dense1): Linear(in_features=64, out_features=32, bias=True)\n",
       "  (dense2): Linear(in_features=32, out_features=4, bias=True)\n",
       ")"
      ]
     },
     "execution_count": 58,
     "metadata": {},
     "output_type": "execute_result"
    }
   ],
   "source": [
    "model = RepEncoder()\n",
    "model.load_state_dict(torch.load('saved_model.pt'))\n",
    "model.eval()"
   ]
  },
  {
   "cell_type": "code",
   "execution_count": 59,
   "metadata": {},
   "outputs": [],
   "source": [
    "dev_inputs = np.load('dev_w2v_embeds.npy')"
   ]
  },
  {
   "cell_type": "code",
   "execution_count": 60,
   "metadata": {},
   "outputs": [
    {
     "data": {
      "text/plain": [
       "(50, 7, 300)"
      ]
     },
     "execution_count": 60,
     "metadata": {},
     "output_type": "execute_result"
    }
   ],
   "source": [
    "dev_inputs.shape"
   ]
  },
  {
   "cell_type": "code",
   "execution_count": 61,
   "metadata": {},
   "outputs": [
    {
     "data": {
      "text/plain": [
       "(50, 7, 300, 1)"
      ]
     },
     "execution_count": 61,
     "metadata": {},
     "output_type": "execute_result"
    }
   ],
   "source": [
    "dev_inputs = np.expand_dims(dev_inputs, axis = 3)\n",
    "dev_inputs.shape"
   ]
  },
  {
   "cell_type": "code",
   "execution_count": 62,
   "metadata": {},
   "outputs": [
    {
     "data": {
      "text/plain": [
       "(50, 1, 7, 300)"
      ]
     },
     "execution_count": 62,
     "metadata": {},
     "output_type": "execute_result"
    }
   ],
   "source": [
    "dev_inputs = np.transpose(dev_inputs, (0, 3, 1, 2))\n",
    "dev_inputs.shape"
   ]
  },
  {
   "cell_type": "code",
   "execution_count": 63,
   "metadata": {},
   "outputs": [],
   "source": [
    "model.double()\n",
    "preds = model(torch.from_numpy(dev_inputs))"
   ]
  },
  {
   "cell_type": "code",
   "execution_count": 64,
   "metadata": {
    "scrolled": true
   },
   "outputs": [
    {
     "data": {
      "text/plain": [
       "tensor([[-1.0631e+00,  7.6729e-01,  4.9550e-01, -7.7233e-01],\n",
       "        [-1.3433e+00,  1.5131e+00,  2.0179e-01, -1.7968e+00],\n",
       "        [-1.1240e+00,  1.1044e+00,  2.6073e-01, -1.6164e+00],\n",
       "        [-1.5883e+00,  8.4063e-01,  9.1070e-01, -7.9954e-01],\n",
       "        [-1.4927e+00,  1.1253e+00,  8.2971e-01, -1.9206e+00],\n",
       "        [-1.3973e-01,  4.3438e-01, -1.6506e-01, -8.1263e-01],\n",
       "        [ 3.9577e-01,  5.7492e-01, -7.4396e-01, -1.0642e+00],\n",
       "        [-4.2581e-01,  5.7152e-01, -1.1007e-02, -9.9951e-01],\n",
       "        [-2.6316e-01,  2.3402e-01,  5.8323e-02, -3.1174e-01],\n",
       "        [-2.8568e+00,  1.9775e+00,  1.3045e+00, -1.3823e+00],\n",
       "        [-7.2947e-01,  7.1859e-01,  3.9244e-01, -1.3624e+00],\n",
       "        [-1.6192e+00,  8.0183e-01,  1.0265e+00, -3.9517e-01],\n",
       "        [-9.2522e-01,  1.2728e+00, -2.4016e-02, -1.3355e+00],\n",
       "        [-8.9672e-01, -1.7453e-03,  9.9219e-01, -1.3682e-01],\n",
       "        [-1.6901e+00,  1.2088e+00,  7.9764e-01, -1.4472e+00],\n",
       "        [ 3.2122e-01,  2.6973e-01, -5.0066e-01, -9.0060e-01],\n",
       "        [-1.5915e+00,  3.7385e-01,  1.6563e+00, -8.6707e-01],\n",
       "        [-1.5819e+00,  1.8855e+00,  2.2801e-01, -2.0205e+00],\n",
       "        [-1.5155e+00,  8.0194e-01,  1.0790e+00, -8.1902e-01],\n",
       "        [-2.0738e+00,  1.7585e+00,  7.1281e-01, -1.4202e+00],\n",
       "        [-6.9119e-01,  7.6736e-01,  4.5494e-02, -6.4677e-01],\n",
       "        [-1.1808e+00,  3.0649e-01,  1.2145e+00, -7.2812e-01],\n",
       "        [-4.7132e-01, -5.0733e-02,  3.9496e-01, -2.1057e-01],\n",
       "        [-1.1331e+00, -3.4186e-02,  1.5750e+00, -5.6829e-01],\n",
       "        [-1.3797e+00,  1.6386e+00,  9.8033e-02, -1.4370e+00],\n",
       "        [-1.0629e+00,  5.4878e-01,  7.1167e-01, -1.7349e-01],\n",
       "        [-6.3206e-01,  4.2283e-01,  4.2306e-01, -5.0283e-01],\n",
       "        [-1.4100e-01,  1.7308e-02,  1.4559e-01, -1.3450e-01],\n",
       "        [-1.3308e+00,  1.4460e+00,  2.2647e-01, -1.3213e+00],\n",
       "        [-8.9328e-01,  4.1677e-01,  5.1501e-01, -3.3100e-01],\n",
       "        [ 3.3397e-01,  7.1423e-01, -1.0190e+00, -1.4244e+00],\n",
       "        [-1.5099e+00,  6.7992e-01,  1.3344e+00, -1.1351e+00],\n",
       "        [ 1.5821e+00, -9.4199e-01, -9.1951e-01, -7.7322e-01],\n",
       "        [-7.0208e-01,  1.1256e+00, -1.9475e-01, -1.2684e+00],\n",
       "        [-1.2545e+00,  1.8540e+00, -7.6191e-02, -1.8989e+00],\n",
       "        [ 4.9015e-01, -6.7469e-01,  1.1112e-01, -7.3210e-02],\n",
       "        [-8.1769e-01,  4.9891e-01,  4.3495e-01, -8.3915e-01],\n",
       "        [-6.1162e-01,  1.5327e+00, -5.3954e-01, -1.4013e+00],\n",
       "        [-1.4475e+00,  1.3528e+00,  3.4965e-01, -1.2077e+00],\n",
       "        [-8.4169e-02,  4.3522e-01, -2.2773e-01, -1.1335e+00],\n",
       "        [-1.9846e-01,  2.7423e-01, -9.8148e-03, -8.9832e-01],\n",
       "        [-9.7980e-01, -9.7234e-02,  1.1054e+00, -7.0963e-01],\n",
       "        [-2.9969e-01,  6.2330e-02,  3.1747e-01, -2.5905e-01],\n",
       "        [-4.0977e-01,  6.4839e-01, -8.4014e-02, -9.2155e-01],\n",
       "        [ 8.8391e-03, -8.0239e-01,  6.7071e-01,  4.0014e-01],\n",
       "        [-5.6667e-01,  9.1557e-01, -1.2235e-01, -1.1808e+00],\n",
       "        [-8.7686e-01,  4.3825e-01,  5.4881e-01, -3.2702e-01],\n",
       "        [-2.5808e-01, -3.4705e-01,  6.0036e-01, -2.8376e-01],\n",
       "        [ 6.9500e-01,  3.3936e-01, -9.5844e-01, -1.6997e+00],\n",
       "        [-1.9530e+00,  2.4044e+00,  1.2818e-01, -2.4478e+00]],\n",
       "       dtype=torch.float64, grad_fn=<AddmmBackward>)"
      ]
     },
     "execution_count": 64,
     "metadata": {},
     "output_type": "execute_result"
    }
   ],
   "source": [
    "preds"
   ]
  },
  {
   "cell_type": "code",
   "execution_count": 65,
   "metadata": {},
   "outputs": [],
   "source": [
    "class_preds = np.argmax(preds.detach().numpy(), axis = 1)"
   ]
  },
  {
   "cell_type": "code",
   "execution_count": 72,
   "metadata": {},
   "outputs": [
    {
     "data": {
      "text/plain": [
       "array([2, 2, 2, 2, 2, 2, 4, 2, 2, 2, 2, 2, 3, 2, 2, 3, 2, 2, 2, 2, 2, 3,\n",
       "       3, 2, 2, 2, 2, 2, 2, 2, 2, 2, 2, 3, 2, 2, 2, 3, 3, 2, 2, 2, 2, 3,\n",
       "       2, 2, 3, 2, 2, 2], dtype=int64)"
      ]
     },
     "execution_count": 72,
     "metadata": {},
     "output_type": "execute_result"
    }
   ],
   "source": [
    "class_preds"
   ]
  },
  {
   "cell_type": "code",
   "execution_count": 67,
   "metadata": {},
   "outputs": [
    {
     "data": {
      "text/plain": [
       "array([2, 2, 2, 3, 2, 2, 2, 2, 2, 2, 2, 3, 2, 3, 2, 1, 3, 2, 3, 2, 2, 3,\n",
       "       3, 3, 2, 3, 3, 3, 2, 3, 2, 3, 1, 2, 2, 1, 2, 2, 2, 2, 2, 3, 3, 2,\n",
       "       3, 2, 3, 3, 1, 2], dtype=int64)"
      ]
     },
     "execution_count": 67,
     "metadata": {},
     "output_type": "execute_result"
    }
   ],
   "source": [
    "class_preds = class_preds + 1\n",
    "class_preds"
   ]
  },
  {
   "cell_type": "code",
   "execution_count": 247,
   "metadata": {},
   "outputs": [
    {
     "data": {
      "text/plain": [
       "array(['101', '106', '107', '114', '123', '128', '133', '139', '142',\n",
       "       '164', '165', '166', '169', '174', '18', '190', '191', '193',\n",
       "       '195', '200', '24', '25', '27', '35', '37', '45', '71', '74', '8',\n",
       "       '85', '214', '219', '229', '250', '252', '262', '283', '287',\n",
       "       '293', '110', '118', '126', '152', '20', '44', '51', '79', '83',\n",
       "       '256', '292'], dtype='<U77')"
      ]
     },
     "execution_count": 247,
     "metadata": {},
     "output_type": "execute_result"
    }
   ],
   "source": [
    "dev_ids = np.load('topics_dev.npy')\n",
    "dev_ids"
   ]
  },
  {
   "cell_type": "code",
   "execution_count": 248,
   "metadata": {
    "scrolled": true
   },
   "outputs": [
    {
     "data": {
      "text/plain": [
       "[('101', 2),\n",
       " ('106', 2),\n",
       " ('107', 2),\n",
       " ('114', 3),\n",
       " ('123', 2),\n",
       " ('128', 2),\n",
       " ('133', 1),\n",
       " ('139', 2),\n",
       " ('142', 2),\n",
       " ('164', 2),\n",
       " ('165', 2),\n",
       " ('166', 3),\n",
       " ('169', 2),\n",
       " ('174', 3),\n",
       " ('18', 2),\n",
       " ('190', 2),\n",
       " ('191', 3),\n",
       " ('193', 2),\n",
       " ('195', 2),\n",
       " ('200', 2),\n",
       " ('24', 2),\n",
       " ('25', 3),\n",
       " ('27', 4),\n",
       " ('35', 3),\n",
       " ('37', 2),\n",
       " ('45', 2),\n",
       " ('71', 2),\n",
       " ('74', 4),\n",
       " ('8', 2),\n",
       " ('85', 2),\n",
       " ('214', 2),\n",
       " ('219', 3),\n",
       " ('229', 1),\n",
       " ('250', 2),\n",
       " ('252', 2),\n",
       " ('262', 1),\n",
       " ('283', 2),\n",
       " ('287', 2),\n",
       " ('293', 2),\n",
       " ('110', 1),\n",
       " ('118', 2),\n",
       " ('126', 3),\n",
       " ('152', 2),\n",
       " ('20', 2),\n",
       " ('44', 4),\n",
       " ('51', 2),\n",
       " ('79', 2),\n",
       " ('83', 3),\n",
       " ('256', 1),\n",
       " ('292', 2)]"
      ]
     },
     "execution_count": 248,
     "metadata": {},
     "output_type": "execute_result"
    }
   ],
   "source": [
    "outs = [(dev_ids[i], class_preds[i]) for i in range(len(preds))]\n",
    "outs"
   ]
  },
  {
   "cell_type": "code",
   "execution_count": 249,
   "metadata": {
    "scrolled": true
   },
   "outputs": [
    {
     "data": {
      "text/plain": [
       "array([['101', '2'],\n",
       "       ['106', '2'],\n",
       "       ['107', '2'],\n",
       "       ['114', '3'],\n",
       "       ['123', '2'],\n",
       "       ['128', '2'],\n",
       "       ['133', '1'],\n",
       "       ['139', '2'],\n",
       "       ['142', '2'],\n",
       "       ['164', '2'],\n",
       "       ['165', '2'],\n",
       "       ['166', '3'],\n",
       "       ['169', '2'],\n",
       "       ['174', '3'],\n",
       "       ['18', '2'],\n",
       "       ['190', '2'],\n",
       "       ['191', '3'],\n",
       "       ['193', '2'],\n",
       "       ['195', '2'],\n",
       "       ['200', '2'],\n",
       "       ['24', '2'],\n",
       "       ['25', '3'],\n",
       "       ['27', '4'],\n",
       "       ['35', '3'],\n",
       "       ['37', '2'],\n",
       "       ['45', '2'],\n",
       "       ['71', '2'],\n",
       "       ['74', '4'],\n",
       "       ['8', '2'],\n",
       "       ['85', '2'],\n",
       "       ['214', '2'],\n",
       "       ['219', '3'],\n",
       "       ['229', '1'],\n",
       "       ['250', '2'],\n",
       "       ['252', '2'],\n",
       "       ['262', '1'],\n",
       "       ['283', '2'],\n",
       "       ['287', '2'],\n",
       "       ['293', '2'],\n",
       "       ['110', '1'],\n",
       "       ['118', '2'],\n",
       "       ['126', '3'],\n",
       "       ['152', '2'],\n",
       "       ['20', '2'],\n",
       "       ['44', '4'],\n",
       "       ['51', '2'],\n",
       "       ['79', '2'],\n",
       "       ['83', '3'],\n",
       "       ['256', '1'],\n",
       "       ['292', '2']], dtype='<U3')"
      ]
     },
     "execution_count": 249,
     "metadata": {},
     "output_type": "execute_result"
    }
   ],
   "source": [
    "outs = np.array(outs)\n",
    "outs"
   ]
  },
  {
   "cell_type": "code",
   "execution_count": 250,
   "metadata": {},
   "outputs": [],
   "source": [
    "np.savetxt('preds_dev_w2v_augmented.txt', outs, fmt=\"%s %s\")"
   ]
  },
  {
   "cell_type": "code",
   "execution_count": 15,
   "metadata": {},
   "outputs": [],
   "source": [
    "from sklearn.metrics import confusion_matrix"
   ]
  },
  {
   "cell_type": "code",
   "execution_count": 73,
   "metadata": {},
   "outputs": [],
   "source": [
    "labels = np.load('labels_dev_embeds.npy')"
   ]
  },
  {
   "cell_type": "code",
   "execution_count": 79,
   "metadata": {},
   "outputs": [
    {
     "data": {
      "text/plain": [
       "array([2, 3, 3, 2, 3, 2, 2, 2, 2, 4, 3, 3, 4, 4, 2, 2, 2, 3, 2, 3, 4, 4,\n",
       "       3, 3, 3, 2, 3, 3, 4, 3, 1, 1, 1, 2, 2, 2, 2, 2, 2, 3, 2, 2, 3, 4,\n",
       "       2, 2, 4, 4, 1, 3])"
      ]
     },
     "execution_count": 79,
     "metadata": {},
     "output_type": "execute_result"
    }
   ],
   "source": [
    "labels"
   ]
  },
  {
   "cell_type": "code",
   "execution_count": 22,
   "metadata": {},
   "outputs": [],
   "source": [
    "class_preds = [3,3,3,1,3,4,2,3,2,2,3,2,3,3,3,4,4,3,3,3,3,3,2,3,3,3,3,3,3,3,3,3,3,2,3,2,2,3,3,2,3,3,2,3,3,1,3,3,4,3]\n"
   ]
  },
  {
   "cell_type": "code",
   "execution_count": 23,
   "metadata": {},
   "outputs": [],
   "source": [
    "class_preds = np.array(class_preds)"
   ]
  },
  {
   "cell_type": "code",
   "execution_count": 68,
   "metadata": {},
   "outputs": [
    {
     "data": {
      "text/plain": [
       "array([2, 2, 2, 3, 2, 2, 2, 2, 2, 2, 2, 3, 2, 3, 2, 1, 3, 2, 3, 2, 2, 3,\n",
       "       3, 3, 2, 3, 3, 3, 2, 3, 2, 3, 1, 2, 2, 1, 2, 2, 2, 2, 2, 3, 3, 2,\n",
       "       3, 2, 3, 3, 1, 2], dtype=int64)"
      ]
     },
     "execution_count": 68,
     "metadata": {},
     "output_type": "execute_result"
    }
   ],
   "source": [
    "class_preds"
   ]
  },
  {
   "cell_type": "code",
   "execution_count": 94,
   "metadata": {},
   "outputs": [],
   "source": [
    "class_preds = np.load('classpreds_model_1_dev.npy')"
   ]
  },
  {
   "cell_type": "code",
   "execution_count": 95,
   "metadata": {},
   "outputs": [
    {
     "data": {
      "text/plain": [
       "array([2, 2, 2, 2, 2, 2, 4, 2, 2, 2, 2, 2, 3, 2, 2, 3, 2, 2, 2, 2, 2, 3,\n",
       "       3, 2, 2, 2, 2, 2, 2, 2, 2, 2, 2, 3, 2, 2, 2, 3, 3, 2, 2, 2, 2, 3,\n",
       "       2, 2, 3, 2, 2, 2], dtype=int64)"
      ]
     },
     "execution_count": 95,
     "metadata": {},
     "output_type": "execute_result"
    }
   ],
   "source": [
    "class_preds"
   ]
  },
  {
   "cell_type": "code",
   "execution_count": 75,
   "metadata": {},
   "outputs": [
    {
     "name": "stdout",
     "output_type": "stream",
     "text": [
      "[[ 0  4  0  0]\n",
      " [ 0 16  4  1]\n",
      " [ 0 15  1  0]\n",
      " [ 0  5  4  0]]\n"
     ]
    }
   ],
   "source": [
    "cf_matrix = confusion_matrix(labels, class_preds)\n",
    "print(cf_matrix)"
   ]
  },
  {
   "cell_type": "code",
   "execution_count": 77,
   "metadata": {},
   "outputs": [],
   "source": [
    "cf_matrix = [[2,1,1,0], [2,13,6,0], [0,9,7,0], [0,5,4,0]]"
   ]
  },
  {
   "cell_type": "code",
   "execution_count": 78,
   "metadata": {},
   "outputs": [
    {
     "data": {
      "text/plain": [
       "<matplotlib.axes._subplots.AxesSubplot at 0x1b3aeaaff70>"
      ]
     },
     "execution_count": 78,
     "metadata": {},
     "output_type": "execute_result"
    },
    {
     "data": {
      "image/png": "[encoded data removed]",
      "text/plain": [
       "<Figure size 432x288 with 2 Axes>"
      ]
     },
     "metadata": {
      "needs_background": "light"
     },
     "output_type": "display_data"
    }
   ],
   "source": [
    "import seaborn as sns\n",
    "sns.heatmap(cf_matrix, cmap = \"Blues\", annot = True)"
   ]
  },
  {
   "cell_type": "code",
   "execution_count": 14,
   "metadata": {},
   "outputs": [
    {
     "data": {
      "text/plain": [
       "[3,\n",
       " 3,\n",
       " 3,\n",
       " 1,\n",
       " 3,\n",
       " 4,\n",
       " 2,\n",
       " 3,\n",
       " 2,\n",
       " 2,\n",
       " 3,\n",
       " 2,\n",
       " 3,\n",
       " 3,\n",
       " 3,\n",
       " 4,\n",
       " 4,\n",
       " 3,\n",
       " 3,\n",
       " 3,\n",
       " 3,\n",
       " 3,\n",
       " 2,\n",
       " 3,\n",
       " 3,\n",
       " 3,\n",
       " 3,\n",
       " 3,\n",
       " 3,\n",
       " 3,\n",
       " 3,\n",
       " 3,\n",
       " 3,\n",
       " 2,\n",
       " 3,\n",
       " 2,\n",
       " 2,\n",
       " 3,\n",
       " 3,\n",
       " 2,\n",
       " 3,\n",
       " 3,\n",
       " 2,\n",
       " 3,\n",
       " 3,\n",
       " 1,\n",
       " 3,\n",
       " 3,\n",
       " 4,\n",
       " 3]"
      ]
     },
     "execution_count": 14,
     "metadata": {},
     "output_type": "execute_result"
    }
   ],
   "source": [
    "class_preds"
   ]
  },
  {
   "cell_type": "code",
   "execution_count": 7,
   "metadata": {},
   "outputs": [
    {
     "data": {
      "text/plain": [
       "array([2, 3, 3, 2, 3, 2, 2, 2, 2, 4, 3, 3, 4, 4, 2, 2, 2, 3, 2, 3, 4, 4,\n",
       "       3, 3, 3, 2, 3, 3, 4, 3, 1, 1, 1, 2, 2, 2, 2, 2, 2, 3, 2, 2, 3, 4,\n",
       "       2, 2, 4, 4, 1, 3])"
      ]
     },
     "execution_count": 7,
     "metadata": {},
     "output_type": "execute_result"
    }
   ],
   "source": [
    "labels"
   ]
  },
  {
   "cell_type": "code",
   "execution_count": 8,
   "metadata": {},
   "outputs": [
    {
     "data": {
      "text/plain": [
       "(array([ 4, 21, 16,  9], dtype=int64), array([1, 2, 3, 4, 5]))"
      ]
     },
     "execution_count": 8,
     "metadata": {},
     "output_type": "execute_result"
    }
   ],
   "source": [
    "np.histogram(labels, bins = [1,2,3,4,5])"
   ]
  },
  {
   "cell_type": "code",
   "execution_count": 2,
   "metadata": {},
   "outputs": [],
   "source": [
    "import matplotlib.pyplot as plt"
   ]
  },
  {
   "cell_type": "code",
   "execution_count": 3,
   "metadata": {},
   "outputs": [],
   "source": [
    "matrix = [[0.        , 0.        , 0.        , 0.        , 0.        ,\n",
    "        0.        , 0.        , 0.        , 0.        , 0.        ,\n",
    "        0.        , 0.        , 0.        , 0.        , 0.        ,\n",
    "        0.        , 0.        , 0.        , 0.        , 0.        ],\n",
    "       [0.        , 1.        , 0.14986621, 0.17987404, 0.34463639,\n",
    "        0.31209697, 0.29068076, 0.36490785, 0.38398051, 0.        ,\n",
    "        0.33238697, 0.26860541, 0.        , 0.50913671, 0.        ,\n",
    "        0.16449525, 0.04373682, 0.        , 0.30425273, 0.        ],\n",
    "       [0.        , 0.14986621, 1.        , 0.06531242, 0.13567848,\n",
    "        0.12977611, 0.08418215, 0.08870296, 0.15283304, 0.        ,\n",
    "        0.10370234, 0.07403679, 0.        , 0.17994761, 0.        ,\n",
    "        0.09528971, 0.03799583, 0.        , 0.07508937, 0.        ],\n",
    "       [0.        , 0.17987404, 0.06531242, 1.        , 0.27398639,\n",
    "        0.27399229, 0.2105554 , 0.20829149, 0.28312531, 0.        ,\n",
    "        0.25885677, 0.16551455, 0.        , 0.34509535, 0.        ,\n",
    "        0.09854718, 0.02425784, 0.        , 0.19057303, 0.        ],\n",
    "       [0.        , 0.34463639, 0.13567848, 0.27398639, 1.        ,\n",
    "        0.36696684, 0.33539028, 0.36562416, 0.49178689, 0.        ,\n",
    "        0.47634421, 0.38037895, 0.        , 0.60768503, 0.        ,\n",
    "        0.18568641, 0.04687261, 0.        , 0.31622511, 0.        ],\n",
    "       [0.        , 0.31209697, 0.12977611, 0.27399229, 0.36696684,\n",
    "        1.        , 0.33186311, 0.38356609, 0.4773788 , 0.        ,\n",
    "        0.36294259, 0.25630784, 0.        , 0.6102883 , 0.        ,\n",
    "        0.165247  , 0.05755187, 0.        , 0.28602651, 0.        ],\n",
    "       [0.        , 0.29068076, 0.08418215, 0.2105554 , 0.33539028,\n",
    "        0.33186311, 1.        , 0.31127243, 0.43481823, 0.        ,\n",
    "        0.32469232, 0.23142705, 0.        , 0.50609804, 0.        ,\n",
    "        0.1359846 , 0.05010383, 0.        , 0.25329075, 0.        ],\n",
    "       [0.        , 0.36490785, 0.08870296, 0.20829149, 0.36562416,\n",
    "        0.38356609, 0.31127243, 1.        , 0.41807527, 0.        ,\n",
    "        0.35214096, 0.27531835, 0.        , 0.54369978, 0.        ,\n",
    "        0.13514729, 0.04883558, 0.        , 0.57648255, 0.        ],\n",
    "       [0.        , 0.38398051, 0.15283304, 0.28312531, 0.49178689,\n",
    "        0.4773788 , 0.43481823, 0.41807527, 1.        , 0.        ,\n",
    "        0.47087656, 0.34596379, 0.        , 0.78880637, 0.        ,\n",
    "        0.22008694, 0.07528506, 0.        , 0.34842617, 0.        ],\n",
    "       [0.        , 0.        , 0.        , 0.        , 0.        ,\n",
    "        0.        , 0.        , 0.        , 0.        , 0.        ,\n",
    "        0.        , 0.        , 0.        , 0.        , 0.        ,\n",
    "        0.        , 0.        , 0.        , 0.        , 0.        ],\n",
    "       [0.        , 0.33238697, 0.10370234, 0.25885677, 0.47634421,\n",
    "        0.36294259, 0.32469232, 0.35214096, 0.47087656, 0.        ,\n",
    "        1.        , 0.28946766, 0.        , 0.56157489, 0.        ,\n",
    "        0.16639139, 0.05201116, 0.        , 0.29163908, 0.        ],\n",
    "       [0.        , 0.26860541, 0.07403679, 0.16551455, 0.38037895,\n",
    "        0.25630784, 0.23142705, 0.27531835, 0.34596379, 0.        ,\n",
    "        0.28946766, 1.        , 0.        , 0.41356797, 0.        ,\n",
    "        0.12769789, 0.03928067, 0.        , 0.24099778, 0.        ],\n",
    "       [0.        , 0.        , 0.        , 0.        , 0.        ,\n",
    "        0.        , 0.        , 0.        , 0.        , 0.        ,\n",
    "        0.        , 0.        , 0.        , 0.        , 0.        ,\n",
    "        0.        , 0.        , 0.        , 0.        , 0.        ],\n",
    "       [0.        , 0.50913671, 0.17994761, 0.34509535, 0.60768503,\n",
    "        0.6102883 , 0.50609804, 0.54369978, 0.78880637, 0.        ,\n",
    "        0.56157489, 0.41356797, 0.        , 1.        , 0.        ,\n",
    "        0.25035692, 0.07908807, 0.        , 0.42201755, 0.        ],\n",
    "       [0.        , 0.        , 0.        , 0.        , 0.        ,\n",
    "        0.        , 0.        , 0.        , 0.        , 0.        ,\n",
    "        0.        , 0.        , 0.        , 0.        , 0.        ,\n",
    "        0.        , 0.        , 0.        , 0.        , 0.        ],\n",
    "       [0.        , 0.16449525, 0.09528971, 0.09854718, 0.18568641,\n",
    "        0.165247  , 0.1359846 , 0.13514729, 0.22008694, 0.        ,\n",
    "        0.16639139, 0.12769789, 0.        , 0.25035692, 0.        ,\n",
    "        1.        , 0.02075175, 0.        , 0.12075924, 0.        ],\n",
    "       [0.        , 0.04373682, 0.03799583, 0.02425784, 0.04687261,\n",
    "        0.05755187, 0.05010383, 0.04883558, 0.07528506, 0.        ,\n",
    "        0.05201116, 0.03928067, 0.        , 0.07908807, 0.        ,\n",
    "        0.02075175, 1.        , 0.        , 0.04148338, 0.        ],\n",
    "       [0.        , 0.        , 0.        , 0.        , 0.        ,\n",
    "        0.        , 0.        , 0.        , 0.        , 0.        ,\n",
    "        0.        , 0.        , 0.        , 0.        , 0.        ,\n",
    "        0.        , 0.        , 0.        , 0.        , 0.        ],\n",
    "       [0.        , 0.30425273, 0.07508937, 0.19057303, 0.31622511,\n",
    "        0.28602651, 0.25329075, 0.57648255, 0.34842617, 0.        ,\n",
    "        0.29163908, 0.24099778, 0.        , 0.42201755, 0.        ,\n",
    "        0.12075924, 0.04148338, 0.        , 1.        , 0.        ],\n",
    "       [0.        , 0.        , 0.        , 0.        , 0.        ,\n",
    "        0.        , 0.        , 0.        , 0.        , 0.        ,\n",
    "        0.        , 0.        , 0.        , 0.        , 0.        ,\n",
    "        0.        , 0.        , 0.        , 0.        , 0.        ]]"
   ]
  },
  {
   "cell_type": "code",
   "execution_count": 22,
   "metadata": {},
   "outputs": [],
   "source": [
    "matrix = np.array(matrix)+np.eye(len(matrix))"
   ]
  },
  {
   "cell_type": "code",
   "execution_count": 23,
   "metadata": {},
   "outputs": [
    {
     "data": {
      "text/plain": [
       "<matplotlib.image.AxesImage at 0x167f802a4f0>"
      ]
     },
     "execution_count": 23,
     "metadata": {},
     "output_type": "execute_result"
    },
    {
     "data": {
      "image/png": "[encoded data removed]",
      "text/plain": [
       "<Figure size 288x288 with 1 Axes>"
      ]
     },
     "metadata": {
      "needs_background": "light"
     },
     "output_type": "display_data"
    }
   ],
   "source": [
    "plt.matshow(matrix)"
   ]
  },
  {
   "cell_type": "code",
   "execution_count": 4,
   "metadata": {},
   "outputs": [],
   "source": [
    "matrix1 = [[1.0000, 0.9980, 0.9976, 0.9975, 0.9978, 0.9974, 0.9976, 0.9971, 0.9974,\n",
    "         0.9977, 0.9978, 0.9978, 0.9979, 0.9980, 0.9978, 0.9980, 0.9979, 0.9980,\n",
    "         0.9980, 0.9979],\n",
    "        [0.9980, 1.0000, 0.9973, 0.9974, 0.9977, 0.9970, 0.9975, 0.9975, 0.9970,\n",
    "         0.9975, 0.9977, 0.9976, 0.9982, 0.9980, 0.9980, 0.9979, 0.9979, 0.9977,\n",
    "         0.9978, 0.9977],\n",
    "        [0.9976, 0.9973, 1.0001, 0.9980, 0.9980, 0.9974, 0.9978, 0.9967, 0.9973,\n",
    "         0.9981, 0.9982, 0.9979, 0.9978, 0.9981, 0.9980, 0.9982, 0.9984, 0.9983,\n",
    "         0.9981, 0.9979],\n",
    "        [0.9975, 0.9974, 0.9980, 1.0000, 0.9982, 0.9975, 0.9979, 0.9967, 0.9974,\n",
    "         0.9979, 0.9982, 0.9982, 0.9976, 0.9983, 0.9979, 0.9980, 0.9982, 0.9981,\n",
    "         0.9983, 0.9978],\n",
    "        [0.9978, 0.9977, 0.9980, 0.9982, 1.0000, 0.9979, 0.9979, 0.9969, 0.9976,\n",
    "         0.9982, 0.9982, 0.9980, 0.9978, 0.9983, 0.9982, 0.9983, 0.9983, 0.9983,\n",
    "         0.9983, 0.9978],\n",
    "        [0.9974, 0.9970, 0.9974, 0.9975, 0.9979, 1.0000, 0.9978, 0.9961, 0.9972,\n",
    "         0.9977, 0.9978, 0.9977, 0.9973, 0.9979, 0.9978, 0.9977, 0.9977, 0.9977,\n",
    "         0.9977, 0.9974],\n",
    "        [0.9976, 0.9975, 0.9978, 0.9979, 0.9979, 0.9978, 1.0000, 0.9968, 0.9975,\n",
    "         0.9979, 0.9981, 0.9978, 0.9974, 0.9984, 0.9981, 0.9983, 0.9982, 0.9983,\n",
    "         0.9980, 0.9979],\n",
    "        [0.9971, 0.9975, 0.9967, 0.9967, 0.9969, 0.9961, 0.9968, 1.0000, 0.9965,\n",
    "         0.9971, 0.9969, 0.9970, 0.9973, 0.9972, 0.9972, 0.9973, 0.9973, 0.9970,\n",
    "         0.9970, 0.9967],\n",
    "        [0.9974, 0.9970, 0.9973, 0.9974, 0.9976, 0.9972, 0.9975, 0.9965, 0.9999,\n",
    "         0.9978, 0.9975, 0.9976, 0.9972, 0.9977, 0.9975, 0.9978, 0.9976, 0.9976,\n",
    "         0.9976, 0.9969],\n",
    "        [0.9977, 0.9975, 0.9981, 0.9979, 0.9982, 0.9977, 0.9979, 0.9971, 0.9978,\n",
    "         0.9999, 0.9982, 0.9982, 0.9977, 0.9984, 0.9981, 0.9985, 0.9984, 0.9984,\n",
    "         0.9981, 0.9978],\n",
    "        [0.9978, 0.9977, 0.9982, 0.9982, 0.9982, 0.9978, 0.9981, 0.9969, 0.9975,\n",
    "         0.9982, 1.0000, 0.9982, 0.9981, 0.9982, 0.9981, 0.9984, 0.9984, 0.9984,\n",
    "         0.9985, 0.9980],\n",
    "        [0.9978, 0.9976, 0.9979, 0.9982, 0.9980, 0.9977, 0.9978, 0.9970, 0.9976,\n",
    "         0.9982, 0.9982, 1.0000, 0.9975, 0.9981, 0.9982, 0.9983, 0.9982, 0.9982,\n",
    "         0.9983, 0.9979],\n",
    "        [0.9979, 0.9982, 0.9978, 0.9976, 0.9978, 0.9973, 0.9974, 0.9973, 0.9972,\n",
    "         0.9977, 0.9981, 0.9975, 1.0000, 0.9980, 0.9977, 0.9981, 0.9978, 0.9978,\n",
    "         0.9979, 0.9981],\n",
    "        [0.9980, 0.9980, 0.9981, 0.9983, 0.9983, 0.9979, 0.9984, 0.9972, 0.9977,\n",
    "         0.9984, 0.9982, 0.9981, 0.9980, 1.0000, 0.9984, 0.9987, 0.9987, 0.9988,\n",
    "         0.9987, 0.9981],\n",
    "        [0.9978, 0.9980, 0.9980, 0.9979, 0.9982, 0.9978, 0.9981, 0.9972, 0.9975,\n",
    "         0.9981, 0.9981, 0.9982, 0.9977, 0.9984, 1.0000, 0.9984, 0.9983, 0.9982,\n",
    "         0.9983, 0.9979],\n",
    "        [0.9980, 0.9979, 0.9982, 0.9980, 0.9983, 0.9977, 0.9983, 0.9973, 0.9978,\n",
    "         0.9985, 0.9984, 0.9983, 0.9981, 0.9987, 0.9984, 1.0000, 0.9986, 0.9987,\n",
    "         0.9985, 0.9982],\n",
    "        [0.9979, 0.9979, 0.9984, 0.9982, 0.9983, 0.9977, 0.9982, 0.9973, 0.9976,\n",
    "         0.9984, 0.9984, 0.9982, 0.9978, 0.9987, 0.9983, 0.9986, 1.0000, 0.9987,\n",
    "         0.9987, 0.9981],\n",
    "        [0.9980, 0.9977, 0.9983, 0.9981, 0.9983, 0.9977, 0.9983, 0.9970, 0.9976,\n",
    "         0.9984, 0.9984, 0.9982, 0.9978, 0.9988, 0.9982, 0.9987, 0.9987, 1.0000,\n",
    "         0.9987, 0.9983],\n",
    "        [0.9980, 0.9978, 0.9981, 0.9983, 0.9983, 0.9977, 0.9980, 0.9970, 0.9976,\n",
    "         0.9981, 0.9985, 0.9983, 0.9979, 0.9987, 0.9983, 0.9985, 0.9987, 0.9987,\n",
    "         1.0000, 0.9980],\n",
    "        [0.9979, 0.9977, 0.9979, 0.9978, 0.9978, 0.9974, 0.9979, 0.9967, 0.9969,\n",
    "         0.9978, 0.9980, 0.9979, 0.9981, 0.9981, 0.9979, 0.9982, 0.9981, 0.9983,\n",
    "         0.9980, 1.0000]]"
   ]
  },
  {
   "cell_type": "code",
   "execution_count": 5,
   "metadata": {},
   "outputs": [
    {
     "data": {
      "text/plain": [
       "[[1.0,\n",
       "  0.998,\n",
       "  0.9976,\n",
       "  0.9975,\n",
       "  0.9978,\n",
       "  0.9974,\n",
       "  0.9976,\n",
       "  0.9971,\n",
       "  0.9974,\n",
       "  0.9977,\n",
       "  0.9978,\n",
       "  0.9978,\n",
       "  0.9979,\n",
       "  0.998,\n",
       "  0.9978,\n",
       "  0.998,\n",
       "  0.9979,\n",
       "  0.998,\n",
       "  0.998,\n",
       "  0.9979],\n",
       " [0.998,\n",
       "  1.0,\n",
       "  0.9973,\n",
       "  0.9974,\n",
       "  0.9977,\n",
       "  0.997,\n",
       "  0.9975,\n",
       "  0.9975,\n",
       "  0.997,\n",
       "  0.9975,\n",
       "  0.9977,\n",
       "  0.9976,\n",
       "  0.9982,\n",
       "  0.998,\n",
       "  0.998,\n",
       "  0.9979,\n",
       "  0.9979,\n",
       "  0.9977,\n",
       "  0.9978,\n",
       "  0.9977],\n",
       " [0.9976,\n",
       "  0.9973,\n",
       "  1.0001,\n",
       "  0.998,\n",
       "  0.998,\n",
       "  0.9974,\n",
       "  0.9978,\n",
       "  0.9967,\n",
       "  0.9973,\n",
       "  0.9981,\n",
       "  0.9982,\n",
       "  0.9979,\n",
       "  0.9978,\n",
       "  0.9981,\n",
       "  0.998,\n",
       "  0.9982,\n",
       "  0.9984,\n",
       "  0.9983,\n",
       "  0.9981,\n",
       "  0.9979],\n",
       " [0.9975,\n",
       "  0.9974,\n",
       "  0.998,\n",
       "  1.0,\n",
       "  0.9982,\n",
       "  0.9975,\n",
       "  0.9979,\n",
       "  0.9967,\n",
       "  0.9974,\n",
       "  0.9979,\n",
       "  0.9982,\n",
       "  0.9982,\n",
       "  0.9976,\n",
       "  0.9983,\n",
       "  0.9979,\n",
       "  0.998,\n",
       "  0.9982,\n",
       "  0.9981,\n",
       "  0.9983,\n",
       "  0.9978],\n",
       " [0.9978,\n",
       "  0.9977,\n",
       "  0.998,\n",
       "  0.9982,\n",
       "  1.0,\n",
       "  0.9979,\n",
       "  0.9979,\n",
       "  0.9969,\n",
       "  0.9976,\n",
       "  0.9982,\n",
       "  0.9982,\n",
       "  0.998,\n",
       "  0.9978,\n",
       "  0.9983,\n",
       "  0.9982,\n",
       "  0.9983,\n",
       "  0.9983,\n",
       "  0.9983,\n",
       "  0.9983,\n",
       "  0.9978],\n",
       " [0.9974,\n",
       "  0.997,\n",
       "  0.9974,\n",
       "  0.9975,\n",
       "  0.9979,\n",
       "  1.0,\n",
       "  0.9978,\n",
       "  0.9961,\n",
       "  0.9972,\n",
       "  0.9977,\n",
       "  0.9978,\n",
       "  0.9977,\n",
       "  0.9973,\n",
       "  0.9979,\n",
       "  0.9978,\n",
       "  0.9977,\n",
       "  0.9977,\n",
       "  0.9977,\n",
       "  0.9977,\n",
       "  0.9974],\n",
       " [0.9976,\n",
       "  0.9975,\n",
       "  0.9978,\n",
       "  0.9979,\n",
       "  0.9979,\n",
       "  0.9978,\n",
       "  1.0,\n",
       "  0.9968,\n",
       "  0.9975,\n",
       "  0.9979,\n",
       "  0.9981,\n",
       "  0.9978,\n",
       "  0.9974,\n",
       "  0.9984,\n",
       "  0.9981,\n",
       "  0.9983,\n",
       "  0.9982,\n",
       "  0.9983,\n",
       "  0.998,\n",
       "  0.9979],\n",
       " [0.9971,\n",
       "  0.9975,\n",
       "  0.9967,\n",
       "  0.9967,\n",
       "  0.9969,\n",
       "  0.9961,\n",
       "  0.9968,\n",
       "  1.0,\n",
       "  0.9965,\n",
       "  0.9971,\n",
       "  0.9969,\n",
       "  0.997,\n",
       "  0.9973,\n",
       "  0.9972,\n",
       "  0.9972,\n",
       "  0.9973,\n",
       "  0.9973,\n",
       "  0.997,\n",
       "  0.997,\n",
       "  0.9967],\n",
       " [0.9974,\n",
       "  0.997,\n",
       "  0.9973,\n",
       "  0.9974,\n",
       "  0.9976,\n",
       "  0.9972,\n",
       "  0.9975,\n",
       "  0.9965,\n",
       "  0.9999,\n",
       "  0.9978,\n",
       "  0.9975,\n",
       "  0.9976,\n",
       "  0.9972,\n",
       "  0.9977,\n",
       "  0.9975,\n",
       "  0.9978,\n",
       "  0.9976,\n",
       "  0.9976,\n",
       "  0.9976,\n",
       "  0.9969],\n",
       " [0.9977,\n",
       "  0.9975,\n",
       "  0.9981,\n",
       "  0.9979,\n",
       "  0.9982,\n",
       "  0.9977,\n",
       "  0.9979,\n",
       "  0.9971,\n",
       "  0.9978,\n",
       "  0.9999,\n",
       "  0.9982,\n",
       "  0.9982,\n",
       "  0.9977,\n",
       "  0.9984,\n",
       "  0.9981,\n",
       "  0.9985,\n",
       "  0.9984,\n",
       "  0.9984,\n",
       "  0.9981,\n",
       "  0.9978],\n",
       " [0.9978,\n",
       "  0.9977,\n",
       "  0.9982,\n",
       "  0.9982,\n",
       "  0.9982,\n",
       "  0.9978,\n",
       "  0.9981,\n",
       "  0.9969,\n",
       "  0.9975,\n",
       "  0.9982,\n",
       "  1.0,\n",
       "  0.9982,\n",
       "  0.9981,\n",
       "  0.9982,\n",
       "  0.9981,\n",
       "  0.9984,\n",
       "  0.9984,\n",
       "  0.9984,\n",
       "  0.9985,\n",
       "  0.998],\n",
       " [0.9978,\n",
       "  0.9976,\n",
       "  0.9979,\n",
       "  0.9982,\n",
       "  0.998,\n",
       "  0.9977,\n",
       "  0.9978,\n",
       "  0.997,\n",
       "  0.9976,\n",
       "  0.9982,\n",
       "  0.9982,\n",
       "  1.0,\n",
       "  0.9975,\n",
       "  0.9981,\n",
       "  0.9982,\n",
       "  0.9983,\n",
       "  0.9982,\n",
       "  0.9982,\n",
       "  0.9983,\n",
       "  0.9979],\n",
       " [0.9979,\n",
       "  0.9982,\n",
       "  0.9978,\n",
       "  0.9976,\n",
       "  0.9978,\n",
       "  0.9973,\n",
       "  0.9974,\n",
       "  0.9973,\n",
       "  0.9972,\n",
       "  0.9977,\n",
       "  0.9981,\n",
       "  0.9975,\n",
       "  1.0,\n",
       "  0.998,\n",
       "  0.9977,\n",
       "  0.9981,\n",
       "  0.9978,\n",
       "  0.9978,\n",
       "  0.9979,\n",
       "  0.9981],\n",
       " [0.998,\n",
       "  0.998,\n",
       "  0.9981,\n",
       "  0.9983,\n",
       "  0.9983,\n",
       "  0.9979,\n",
       "  0.9984,\n",
       "  0.9972,\n",
       "  0.9977,\n",
       "  0.9984,\n",
       "  0.9982,\n",
       "  0.9981,\n",
       "  0.998,\n",
       "  1.0,\n",
       "  0.9984,\n",
       "  0.9987,\n",
       "  0.9987,\n",
       "  0.9988,\n",
       "  0.9987,\n",
       "  0.9981],\n",
       " [0.9978,\n",
       "  0.998,\n",
       "  0.998,\n",
       "  0.9979,\n",
       "  0.9982,\n",
       "  0.9978,\n",
       "  0.9981,\n",
       "  0.9972,\n",
       "  0.9975,\n",
       "  0.9981,\n",
       "  0.9981,\n",
       "  0.9982,\n",
       "  0.9977,\n",
       "  0.9984,\n",
       "  1.0,\n",
       "  0.9984,\n",
       "  0.9983,\n",
       "  0.9982,\n",
       "  0.9983,\n",
       "  0.9979],\n",
       " [0.998,\n",
       "  0.9979,\n",
       "  0.9982,\n",
       "  0.998,\n",
       "  0.9983,\n",
       "  0.9977,\n",
       "  0.9983,\n",
       "  0.9973,\n",
       "  0.9978,\n",
       "  0.9985,\n",
       "  0.9984,\n",
       "  0.9983,\n",
       "  0.9981,\n",
       "  0.9987,\n",
       "  0.9984,\n",
       "  1.0,\n",
       "  0.9986,\n",
       "  0.9987,\n",
       "  0.9985,\n",
       "  0.9982],\n",
       " [0.9979,\n",
       "  0.9979,\n",
       "  0.9984,\n",
       "  0.9982,\n",
       "  0.9983,\n",
       "  0.9977,\n",
       "  0.9982,\n",
       "  0.9973,\n",
       "  0.9976,\n",
       "  0.9984,\n",
       "  0.9984,\n",
       "  0.9982,\n",
       "  0.9978,\n",
       "  0.9987,\n",
       "  0.9983,\n",
       "  0.9986,\n",
       "  1.0,\n",
       "  0.9987,\n",
       "  0.9987,\n",
       "  0.9981],\n",
       " [0.998,\n",
       "  0.9977,\n",
       "  0.9983,\n",
       "  0.9981,\n",
       "  0.9983,\n",
       "  0.9977,\n",
       "  0.9983,\n",
       "  0.997,\n",
       "  0.9976,\n",
       "  0.9984,\n",
       "  0.9984,\n",
       "  0.9982,\n",
       "  0.9978,\n",
       "  0.9988,\n",
       "  0.9982,\n",
       "  0.9987,\n",
       "  0.9987,\n",
       "  1.0,\n",
       "  0.9987,\n",
       "  0.9983],\n",
       " [0.998,\n",
       "  0.9978,\n",
       "  0.9981,\n",
       "  0.9983,\n",
       "  0.9983,\n",
       "  0.9977,\n",
       "  0.998,\n",
       "  0.997,\n",
       "  0.9976,\n",
       "  0.9981,\n",
       "  0.9985,\n",
       "  0.9983,\n",
       "  0.9979,\n",
       "  0.9987,\n",
       "  0.9983,\n",
       "  0.9985,\n",
       "  0.9987,\n",
       "  0.9987,\n",
       "  1.0,\n",
       "  0.998],\n",
       " [0.9979,\n",
       "  0.9977,\n",
       "  0.9979,\n",
       "  0.9978,\n",
       "  0.9978,\n",
       "  0.9974,\n",
       "  0.9979,\n",
       "  0.9967,\n",
       "  0.9969,\n",
       "  0.9978,\n",
       "  0.998,\n",
       "  0.9979,\n",
       "  0.9981,\n",
       "  0.9981,\n",
       "  0.9979,\n",
       "  0.9982,\n",
       "  0.9981,\n",
       "  0.9983,\n",
       "  0.998,\n",
       "  1.0]]"
      ]
     },
     "execution_count": 5,
     "metadata": {},
     "output_type": "execute_result"
    }
   ],
   "source": [
    "matrix1"
   ]
  },
  {
   "cell_type": "code",
   "execution_count": 9,
   "metadata": {},
   "outputs": [
    {
     "data": {
      "text/plain": [
       "<matplotlib.image.AxesImage at 0x167d6efe580>"
      ]
     },
     "execution_count": 9,
     "metadata": {},
     "output_type": "execute_result"
    },
    {
     "data": {
      "image/png": "[encoded data removed]",
      "text/plain": [
       "<Figure size 288x288 with 1 Axes>"
      ]
     },
     "metadata": {
      "needs_background": "light"
     },
     "output_type": "display_data"
    }
   ],
   "source": [
    "plt.matshow(matrix1)"
   ]
  },
  {
   "cell_type": "code",
   "execution_count": 10,
   "metadata": {},
   "outputs": [
    {
     "ename": "RuntimeError",
     "evalue": "No mappable was found to use for colorbar creation. First define a mappable such as an image (with imshow) or a contour set (with contourf).",
     "output_type": "error",
     "traceback": [
      "\u001b[1;31m---------------------------------------------------------------------------\u001b[0m",
      "\u001b[1;31mRuntimeError\u001b[0m                              Traceback (most recent call last)",
      "\u001b[1;32m<ipython-input-10-58b169089b9f>\u001b[0m in \u001b[0;36m<module>\u001b[1;34m\u001b[0m\n\u001b[1;32m----> 1\u001b[1;33m \u001b[0mplt\u001b[0m\u001b[1;33m.\u001b[0m\u001b[0mcolorbar\u001b[0m\u001b[1;33m(\u001b[0m\u001b[1;33m)\u001b[0m\u001b[1;33m\u001b[0m\u001b[1;33m\u001b[0m\u001b[0m\n\u001b[0m",
      "\u001b[1;32mD:\\Installations\\Python\\lib\\site-packages\\matplotlib\\pyplot.py\u001b[0m in \u001b[0;36mcolorbar\u001b[1;34m(mappable, cax, ax, **kw)\u001b[0m\n\u001b[0;32m   2001\u001b[0m         \u001b[0mmappable\u001b[0m \u001b[1;33m=\u001b[0m \u001b[0mgci\u001b[0m\u001b[1;33m(\u001b[0m\u001b[1;33m)\u001b[0m\u001b[1;33m\u001b[0m\u001b[1;33m\u001b[0m\u001b[0m\n\u001b[0;32m   2002\u001b[0m         \u001b[1;32mif\u001b[0m \u001b[0mmappable\u001b[0m \u001b[1;32mis\u001b[0m \u001b[1;32mNone\u001b[0m\u001b[1;33m:\u001b[0m\u001b[1;33m\u001b[0m\u001b[1;33m\u001b[0m\u001b[0m\n\u001b[1;32m-> 2003\u001b[1;33m             raise RuntimeError('No mappable was found to use for colorbar '\n\u001b[0m\u001b[0;32m   2004\u001b[0m                                \u001b[1;34m'creation. First define a mappable such as '\u001b[0m\u001b[1;33m\u001b[0m\u001b[1;33m\u001b[0m\u001b[0m\n\u001b[0;32m   2005\u001b[0m                                \u001b[1;34m'an image (with imshow) or a contour set ('\u001b[0m\u001b[1;33m\u001b[0m\u001b[1;33m\u001b[0m\u001b[0m\n",
      "\u001b[1;31mRuntimeError\u001b[0m: No mappable was found to use for colorbar creation. First define a mappable such as an image (with imshow) or a contour set (with contourf)."
     ]
    },
    {
     "data": {
      "text/plain": [
       "<Figure size 432x288 with 0 Axes>"
      ]
     },
     "metadata": {},
     "output_type": "display_data"
    }
   ],
   "source": [
    "plt.colorbar()"
   ]
  },
  {
   "cell_type": "code",
   "execution_count": 13,
   "metadata": {},
   "outputs": [
    {
     "data": {
      "text/plain": [
       "<matplotlib.colorbar.Colorbar at 0x167f6dcb2b0>"
      ]
     },
     "execution_count": 13,
     "metadata": {},
     "output_type": "execute_result"
    },
    {
     "data": {
      "image/png": "[encoded data removed]",
      "text/plain": [
       "<Figure size 432x288 with 3 Axes>"
      ]
     },
     "metadata": {
      "needs_background": "light"
     },
     "output_type": "display_data"
    }
   ],
   "source": [
    "plt.subplot(1, 2, 1)\n",
    "plt.imshow(matrix, vmin=0, vmax=1, cmap='jet', aspect='auto')\n",
    "plt.subplot(1, 2, 2)\n",
    "plt.imshow(matrix1, vmin=0, vmax=1, cmap='jet', aspect='auto')\n",
    "plt.colorbar()"
   ]
  },
  {
   "cell_type": "code",
   "execution_count": 11,
   "metadata": {},
   "outputs": [
    {
     "name": "stderr",
     "output_type": "stream",
     "text": [
      "<ipython-input-11-32f253cf7970>:3: MatplotlibDeprecationWarning: Adding an axes using the same arguments as a previous axes currently reuses the earlier instance.  In a future version, a new instance will always be created and returned.  Meanwhile, this warning can be suppressed, and the future behavior ensured, by passing a unique label to each axes instance.\n",
      "  ax2 = figure.add_subplot(111)\n"
     ]
    },
    {
     "data": {
      "text/plain": [
       "<matplotlib.colorbar.Colorbar at 0x281c3b56310>"
      ]
     },
     "execution_count": 11,
     "metadata": {},
     "output_type": "execute_result"
    },
    {
     "data": {
      "image/png": "[encoded data removed]",
      "text/plain": [
       "<Figure size 432x288 with 2 Axes>"
      ]
     },
     "metadata": {
      "needs_background": "light"
     },
     "output_type": "display_data"
    }
   ],
   "source": [
    "figure = plt.figure()\n",
    "axes = figure.add_subplot(111)\n",
    "ax2 = figure.add_subplot(111)\n",
    "# using the matshow() function \n",
    "caxes = axes.matshow(matrix1)\n",
    "figure.colorbar(caxes)\n"
   ]
  },
  {
   "cell_type": "code",
   "execution_count": 7,
   "metadata": {},
   "outputs": [],
   "source": [
    "matrix1 = [[1.0000, 0.9980, 0.9981, 0.9979, 0.9984, 0.9981, 0.9961, 0.9984, 0.9981,\n",
    "         0.9977, 0.9977, 0.9983, 0.9975, 0.9964, 0.9982, 0.9965, 0.9963, 0.9962,\n",
    "         0.9983, 0.9981],\n",
    "        [0.9980, 1.0000, 0.9982, 0.9978, 0.9984, 0.9984, 0.9962, 0.9987, 0.9981,\n",
    "         0.9978, 0.9979, 0.9985, 0.9979, 0.9962, 0.9983, 0.9969, 0.9964, 0.9963,\n",
    "         0.9983, 0.9984],\n",
    "        [0.9981, 0.9982, 1.0000, 0.9978, 0.9985, 0.9984, 0.9965, 0.9987, 0.9982,\n",
    "         0.9980, 0.9982, 0.9986, 0.9978, 0.9963, 0.9983, 0.9969, 0.9964, 0.9963,\n",
    "         0.9987, 0.9985],\n",
    "        [0.9979, 0.9978, 0.9978, 1.0000, 0.9980, 0.9981, 0.9955, 0.9982, 0.9978,\n",
    "         0.9977, 0.9977, 0.9981, 0.9976, 0.9957, 0.9982, 0.9961, 0.9958, 0.9957,\n",
    "         0.9980, 0.9978],\n",
    "        [0.9984, 0.9984, 0.9985, 0.9980, 1.0000, 0.9986, 0.9966, 0.9988, 0.9984,\n",
    "         0.9979, 0.9984, 0.9988, 0.9980, 0.9970, 0.9987, 0.9971, 0.9968, 0.9969,\n",
    "         0.9988, 0.9987],\n",
    "        [0.9981, 0.9984, 0.9984, 0.9981, 0.9986, 1.0000, 0.9961, 0.9988, 0.9985,\n",
    "         0.9983, 0.9982, 0.9988, 0.9983, 0.9963, 0.9986, 0.9966, 0.9962, 0.9963,\n",
    "         0.9989, 0.9985],\n",
    "        [0.9961, 0.9962, 0.9965, 0.9955, 0.9966, 0.9961, 1.0000, 0.9966, 0.9962,\n",
    "         0.9955, 0.9958, 0.9964, 0.9955, 0.9977, 0.9963, 0.9966, 0.9977, 0.9980,\n",
    "         0.9965, 0.9965],\n",
    "        [0.9984, 0.9987, 0.9987, 0.9982, 0.9988, 0.9988, 0.9966, 1.0000, 0.9986,\n",
    "         0.9982, 0.9984, 0.9989, 0.9983, 0.9969, 0.9988, 0.9973, 0.9969, 0.9968,\n",
    "         0.9988, 0.9987],\n",
    "        [0.9981, 0.9981, 0.9982, 0.9978, 0.9984, 0.9985, 0.9962, 0.9986, 1.0000,\n",
    "         0.9981, 0.9980, 0.9986, 0.9981, 0.9965, 0.9985, 0.9967, 0.9966, 0.9964,\n",
    "         0.9986, 0.9983],\n",
    "        [0.9977, 0.9978, 0.9980, 0.9977, 0.9979, 0.9983, 0.9955, 0.9982, 0.9981,\n",
    "         1.0000, 0.9979, 0.9984, 0.9982, 0.9956, 0.9982, 0.9964, 0.9957, 0.9957,\n",
    "         0.9985, 0.9982],\n",
    "        [0.9977, 0.9979, 0.9982, 0.9977, 0.9984, 0.9982, 0.9958, 0.9984, 0.9980,\n",
    "         0.9979, 0.9999, 0.9984, 0.9976, 0.9961, 0.9982, 0.9965, 0.9963, 0.9962,\n",
    "         0.9984, 0.9980],\n",
    "        [0.9983, 0.9985, 0.9986, 0.9981, 0.9988, 0.9988, 0.9964, 0.9989, 0.9986,\n",
    "         0.9984, 0.9984, 1.0000, 0.9982, 0.9967, 0.9986, 0.9971, 0.9969, 0.9969,\n",
    "         0.9987, 0.9987],\n",
    "        [0.9975, 0.9979, 0.9978, 0.9976, 0.9980, 0.9983, 0.9955, 0.9983, 0.9981,\n",
    "         0.9982, 0.9976, 0.9982, 1.0000, 0.9956, 0.9981, 0.9961, 0.9954, 0.9957,\n",
    "         0.9984, 0.9980],\n",
    "        [0.9964, 0.9962, 0.9963, 0.9957, 0.9970, 0.9963, 0.9977, 0.9969, 0.9965,\n",
    "         0.9956, 0.9961, 0.9967, 0.9956, 1.0000, 0.9967, 0.9965, 0.9985, 0.9988,\n",
    "         0.9966, 0.9968],\n",
    "        [0.9982, 0.9983, 0.9983, 0.9982, 0.9987, 0.9986, 0.9963, 0.9988, 0.9985,\n",
    "         0.9982, 0.9982, 0.9986, 0.9981, 0.9967, 1.0000, 0.9971, 0.9966, 0.9965,\n",
    "         0.9988, 0.9985],\n",
    "        [0.9965, 0.9969, 0.9969, 0.9961, 0.9971, 0.9966, 0.9966, 0.9973, 0.9967,\n",
    "         0.9964, 0.9965, 0.9971, 0.9961, 0.9965, 0.9971, 1.0000, 0.9965, 0.9964,\n",
    "         0.9970, 0.9970],\n",
    "        [0.9963, 0.9964, 0.9964, 0.9958, 0.9968, 0.9962, 0.9977, 0.9969, 0.9966,\n",
    "         0.9957, 0.9963, 0.9969, 0.9954, 0.9985, 0.9966, 0.9965, 1.0000, 0.9987,\n",
    "         0.9964, 0.9967],\n",
    "        [0.9962, 0.9963, 0.9963, 0.9957, 0.9969, 0.9963, 0.9980, 0.9968, 0.9964,\n",
    "         0.9957, 0.9962, 0.9969, 0.9957, 0.9988, 0.9965, 0.9964, 0.9987, 1.0000,\n",
    "         0.9965, 0.9968],\n",
    "        [0.9983, 0.9983, 0.9987, 0.9980, 0.9988, 0.9989, 0.9965, 0.9988, 0.9986,\n",
    "         0.9985, 0.9984, 0.9987, 0.9984, 0.9966, 0.9988, 0.9970, 0.9964, 0.9965,\n",
    "         1.0000, 0.9986],\n",
    "        [0.9981, 0.9984, 0.9985, 0.9978, 0.9987, 0.9985, 0.9965, 0.9987, 0.9983,\n",
    "         0.9982, 0.9980, 0.9987, 0.9980, 0.9968, 0.9985, 0.9970, 0.9967, 0.9968,\n",
    "         0.9986, 1.0000]]"
   ]
  },
  {
   "cell_type": "code",
   "execution_count": 8,
   "metadata": {},
   "outputs": [
    {
     "data": {
      "text/plain": [
       "[[1.0,\n",
       "  0.998,\n",
       "  0.9981,\n",
       "  0.9979,\n",
       "  0.9984,\n",
       "  0.9981,\n",
       "  0.9961,\n",
       "  0.9984,\n",
       "  0.9981,\n",
       "  0.9977,\n",
       "  0.9977,\n",
       "  0.9983,\n",
       "  0.9975,\n",
       "  0.9964,\n",
       "  0.9982,\n",
       "  0.9965,\n",
       "  0.9963,\n",
       "  0.9962,\n",
       "  0.9983,\n",
       "  0.9981],\n",
       " [0.998,\n",
       "  1.0,\n",
       "  0.9982,\n",
       "  0.9978,\n",
       "  0.9984,\n",
       "  0.9984,\n",
       "  0.9962,\n",
       "  0.9987,\n",
       "  0.9981,\n",
       "  0.9978,\n",
       "  0.9979,\n",
       "  0.9985,\n",
       "  0.9979,\n",
       "  0.9962,\n",
       "  0.9983,\n",
       "  0.9969,\n",
       "  0.9964,\n",
       "  0.9963,\n",
       "  0.9983,\n",
       "  0.9984],\n",
       " [0.9981,\n",
       "  0.9982,\n",
       "  1.0,\n",
       "  0.9978,\n",
       "  0.9985,\n",
       "  0.9984,\n",
       "  0.9965,\n",
       "  0.9987,\n",
       "  0.9982,\n",
       "  0.998,\n",
       "  0.9982,\n",
       "  0.9986,\n",
       "  0.9978,\n",
       "  0.9963,\n",
       "  0.9983,\n",
       "  0.9969,\n",
       "  0.9964,\n",
       "  0.9963,\n",
       "  0.9987,\n",
       "  0.9985],\n",
       " [0.9979,\n",
       "  0.9978,\n",
       "  0.9978,\n",
       "  1.0,\n",
       "  0.998,\n",
       "  0.9981,\n",
       "  0.9955,\n",
       "  0.9982,\n",
       "  0.9978,\n",
       "  0.9977,\n",
       "  0.9977,\n",
       "  0.9981,\n",
       "  0.9976,\n",
       "  0.9957,\n",
       "  0.9982,\n",
       "  0.9961,\n",
       "  0.9958,\n",
       "  0.9957,\n",
       "  0.998,\n",
       "  0.9978],\n",
       " [0.9984,\n",
       "  0.9984,\n",
       "  0.9985,\n",
       "  0.998,\n",
       "  1.0,\n",
       "  0.9986,\n",
       "  0.9966,\n",
       "  0.9988,\n",
       "  0.9984,\n",
       "  0.9979,\n",
       "  0.9984,\n",
       "  0.9988,\n",
       "  0.998,\n",
       "  0.997,\n",
       "  0.9987,\n",
       "  0.9971,\n",
       "  0.9968,\n",
       "  0.9969,\n",
       "  0.9988,\n",
       "  0.9987],\n",
       " [0.9981,\n",
       "  0.9984,\n",
       "  0.9984,\n",
       "  0.9981,\n",
       "  0.9986,\n",
       "  1.0,\n",
       "  0.9961,\n",
       "  0.9988,\n",
       "  0.9985,\n",
       "  0.9983,\n",
       "  0.9982,\n",
       "  0.9988,\n",
       "  0.9983,\n",
       "  0.9963,\n",
       "  0.9986,\n",
       "  0.9966,\n",
       "  0.9962,\n",
       "  0.9963,\n",
       "  0.9989,\n",
       "  0.9985],\n",
       " [0.9961,\n",
       "  0.9962,\n",
       "  0.9965,\n",
       "  0.9955,\n",
       "  0.9966,\n",
       "  0.9961,\n",
       "  1.0,\n",
       "  0.9966,\n",
       "  0.9962,\n",
       "  0.9955,\n",
       "  0.9958,\n",
       "  0.9964,\n",
       "  0.9955,\n",
       "  0.9977,\n",
       "  0.9963,\n",
       "  0.9966,\n",
       "  0.9977,\n",
       "  0.998,\n",
       "  0.9965,\n",
       "  0.9965],\n",
       " [0.9984,\n",
       "  0.9987,\n",
       "  0.9987,\n",
       "  0.9982,\n",
       "  0.9988,\n",
       "  0.9988,\n",
       "  0.9966,\n",
       "  1.0,\n",
       "  0.9986,\n",
       "  0.9982,\n",
       "  0.9984,\n",
       "  0.9989,\n",
       "  0.9983,\n",
       "  0.9969,\n",
       "  0.9988,\n",
       "  0.9973,\n",
       "  0.9969,\n",
       "  0.9968,\n",
       "  0.9988,\n",
       "  0.9987],\n",
       " [0.9981,\n",
       "  0.9981,\n",
       "  0.9982,\n",
       "  0.9978,\n",
       "  0.9984,\n",
       "  0.9985,\n",
       "  0.9962,\n",
       "  0.9986,\n",
       "  1.0,\n",
       "  0.9981,\n",
       "  0.998,\n",
       "  0.9986,\n",
       "  0.9981,\n",
       "  0.9965,\n",
       "  0.9985,\n",
       "  0.9967,\n",
       "  0.9966,\n",
       "  0.9964,\n",
       "  0.9986,\n",
       "  0.9983],\n",
       " [0.9977,\n",
       "  0.9978,\n",
       "  0.998,\n",
       "  0.9977,\n",
       "  0.9979,\n",
       "  0.9983,\n",
       "  0.9955,\n",
       "  0.9982,\n",
       "  0.9981,\n",
       "  1.0,\n",
       "  0.9979,\n",
       "  0.9984,\n",
       "  0.9982,\n",
       "  0.9956,\n",
       "  0.9982,\n",
       "  0.9964,\n",
       "  0.9957,\n",
       "  0.9957,\n",
       "  0.9985,\n",
       "  0.9982],\n",
       " [0.9977,\n",
       "  0.9979,\n",
       "  0.9982,\n",
       "  0.9977,\n",
       "  0.9984,\n",
       "  0.9982,\n",
       "  0.9958,\n",
       "  0.9984,\n",
       "  0.998,\n",
       "  0.9979,\n",
       "  0.9999,\n",
       "  0.9984,\n",
       "  0.9976,\n",
       "  0.9961,\n",
       "  0.9982,\n",
       "  0.9965,\n",
       "  0.9963,\n",
       "  0.9962,\n",
       "  0.9984,\n",
       "  0.998],\n",
       " [0.9983,\n",
       "  0.9985,\n",
       "  0.9986,\n",
       "  0.9981,\n",
       "  0.9988,\n",
       "  0.9988,\n",
       "  0.9964,\n",
       "  0.9989,\n",
       "  0.9986,\n",
       "  0.9984,\n",
       "  0.9984,\n",
       "  1.0,\n",
       "  0.9982,\n",
       "  0.9967,\n",
       "  0.9986,\n",
       "  0.9971,\n",
       "  0.9969,\n",
       "  0.9969,\n",
       "  0.9987,\n",
       "  0.9987],\n",
       " [0.9975,\n",
       "  0.9979,\n",
       "  0.9978,\n",
       "  0.9976,\n",
       "  0.998,\n",
       "  0.9983,\n",
       "  0.9955,\n",
       "  0.9983,\n",
       "  0.9981,\n",
       "  0.9982,\n",
       "  0.9976,\n",
       "  0.9982,\n",
       "  1.0,\n",
       "  0.9956,\n",
       "  0.9981,\n",
       "  0.9961,\n",
       "  0.9954,\n",
       "  0.9957,\n",
       "  0.9984,\n",
       "  0.998],\n",
       " [0.9964,\n",
       "  0.9962,\n",
       "  0.9963,\n",
       "  0.9957,\n",
       "  0.997,\n",
       "  0.9963,\n",
       "  0.9977,\n",
       "  0.9969,\n",
       "  0.9965,\n",
       "  0.9956,\n",
       "  0.9961,\n",
       "  0.9967,\n",
       "  0.9956,\n",
       "  1.0,\n",
       "  0.9967,\n",
       "  0.9965,\n",
       "  0.9985,\n",
       "  0.9988,\n",
       "  0.9966,\n",
       "  0.9968],\n",
       " [0.9982,\n",
       "  0.9983,\n",
       "  0.9983,\n",
       "  0.9982,\n",
       "  0.9987,\n",
       "  0.9986,\n",
       "  0.9963,\n",
       "  0.9988,\n",
       "  0.9985,\n",
       "  0.9982,\n",
       "  0.9982,\n",
       "  0.9986,\n",
       "  0.9981,\n",
       "  0.9967,\n",
       "  1.0,\n",
       "  0.9971,\n",
       "  0.9966,\n",
       "  0.9965,\n",
       "  0.9988,\n",
       "  0.9985],\n",
       " [0.9965,\n",
       "  0.9969,\n",
       "  0.9969,\n",
       "  0.9961,\n",
       "  0.9971,\n",
       "  0.9966,\n",
       "  0.9966,\n",
       "  0.9973,\n",
       "  0.9967,\n",
       "  0.9964,\n",
       "  0.9965,\n",
       "  0.9971,\n",
       "  0.9961,\n",
       "  0.9965,\n",
       "  0.9971,\n",
       "  1.0,\n",
       "  0.9965,\n",
       "  0.9964,\n",
       "  0.997,\n",
       "  0.997],\n",
       " [0.9963,\n",
       "  0.9964,\n",
       "  0.9964,\n",
       "  0.9958,\n",
       "  0.9968,\n",
       "  0.9962,\n",
       "  0.9977,\n",
       "  0.9969,\n",
       "  0.9966,\n",
       "  0.9957,\n",
       "  0.9963,\n",
       "  0.9969,\n",
       "  0.9954,\n",
       "  0.9985,\n",
       "  0.9966,\n",
       "  0.9965,\n",
       "  1.0,\n",
       "  0.9987,\n",
       "  0.9964,\n",
       "  0.9967],\n",
       " [0.9962,\n",
       "  0.9963,\n",
       "  0.9963,\n",
       "  0.9957,\n",
       "  0.9969,\n",
       "  0.9963,\n",
       "  0.998,\n",
       "  0.9968,\n",
       "  0.9964,\n",
       "  0.9957,\n",
       "  0.9962,\n",
       "  0.9969,\n",
       "  0.9957,\n",
       "  0.9988,\n",
       "  0.9965,\n",
       "  0.9964,\n",
       "  0.9987,\n",
       "  1.0,\n",
       "  0.9965,\n",
       "  0.9968],\n",
       " [0.9983,\n",
       "  0.9983,\n",
       "  0.9987,\n",
       "  0.998,\n",
       "  0.9988,\n",
       "  0.9989,\n",
       "  0.9965,\n",
       "  0.9988,\n",
       "  0.9986,\n",
       "  0.9985,\n",
       "  0.9984,\n",
       "  0.9987,\n",
       "  0.9984,\n",
       "  0.9966,\n",
       "  0.9988,\n",
       "  0.997,\n",
       "  0.9964,\n",
       "  0.9965,\n",
       "  1.0,\n",
       "  0.9986],\n",
       " [0.9981,\n",
       "  0.9984,\n",
       "  0.9985,\n",
       "  0.9978,\n",
       "  0.9987,\n",
       "  0.9985,\n",
       "  0.9965,\n",
       "  0.9987,\n",
       "  0.9983,\n",
       "  0.9982,\n",
       "  0.998,\n",
       "  0.9987,\n",
       "  0.998,\n",
       "  0.9968,\n",
       "  0.9985,\n",
       "  0.997,\n",
       "  0.9967,\n",
       "  0.9968,\n",
       "  0.9986,\n",
       "  1.0]]"
      ]
     },
     "execution_count": 8,
     "metadata": {},
     "output_type": "execute_result"
    }
   ],
   "source": [
    "matrix1"
   ]
  },
  {
   "cell_type": "code",
   "execution_count": null,
   "metadata": {},
   "outputs": [],
   "source": []
  }
 ],
 "metadata": {
  "kernelspec": {
   "display_name": "Python 3.8.3 64-bit",
   "language": "python",
   "name": "python38364bit54af622977484619b47ea42e3ff533e7"
  },
  "language_info": {
   "codemirror_mode": {
    "name": "ipython",
    "version": 3
   },
   "file_extension": ".py",
   "mimetype": "text/x-python",
   "name": "python",
   "nbconvert_exporter": "python",
   "pygments_lexer": "ipython3",
   "version": "3.8.3"
  }
 },
 "nbformat": 4,
 "nbformat_minor": 4
}
