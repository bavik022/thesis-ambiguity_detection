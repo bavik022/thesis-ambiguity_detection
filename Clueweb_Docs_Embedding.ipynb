{
 "cells": [
  {
   "cell_type": "code",
   "execution_count": 1,
   "metadata": {},
   "outputs": [],
   "source": [
    "import pandas as pd\n",
    "import requests\n",
    "from tqdm.notebook import tqdm\n",
    "import uuid\n",
    "from sentence_transformers import SentenceTransformer\n",
    "import pickle\n",
    "from bs4 import BeautifulSoup\n",
    "from rake_nltk import Rake"
   ]
  },
  {
   "cell_type": "code",
   "execution_count": null,
   "metadata": {},
   "outputs": [],
   "source": [
    "data = pd.read_pickle('./data/top10k_docs_dict.pkl')"
   ]
  },
  {
   "cell_type": "code",
   "execution_count": null,
   "metadata": {},
   "outputs": [],
   "source": [
    "topics = list(data.keys())"
   ]
  },
  {
   "cell_type": "code",
   "execution_count": null,
   "metadata": {},
   "outputs": [],
   "source": [
    "record = data[topics[0]]\n",
    "record[0]"
   ]
  },
  {
   "cell_type": "code",
   "execution_count": null,
   "metadata": {},
   "outputs": [],
   "source": [
    "id = list(data.values())[0][0]"
   ]
  },
  {
   "cell_type": "code",
   "execution_count": null,
   "metadata": {},
   "outputs": [],
   "source": [
    "idx = id[0:9]"
   ]
  },
  {
   "cell_type": "code",
   "execution_count": null,
   "metadata": {},
   "outputs": [],
   "source": [
    "':'.join((idx, id))"
   ]
  },
  {
   "cell_type": "code",
   "execution_count": null,
   "metadata": {},
   "outputs": [],
   "source": [
    "api_key = \"83eaf18c-f42b-49e1-8d97-1062f00ac2eb\""
   ]
  },
  {
   "cell_type": "code",
   "execution_count": null,
   "metadata": {},
   "outputs": [],
   "source": [
    "bert_model = SentenceTransformer('bert-base-nli-mean-tokens')\n",
    "bert_model.cuda()"
   ]
  },
  {
   "cell_type": "code",
   "execution_count": null,
   "metadata": {},
   "outputs": [],
   "source": [
    "bert_model.max_seq_length = 1000"
   ]
  },
  {
   "cell_type": "code",
   "execution_count": null,
   "metadata": {},
   "outputs": [],
   "source": [
    "bert_model.max_seq_length"
   ]
  },
  {
   "cell_type": "code",
   "execution_count": null,
   "metadata": {},
   "outputs": [],
   "source": [
    "writefile = open('retrieved_encoded_docs.pkl', 'wb')\n",
    "with open('./data/top10k_docs_dict.pkl', 'rb') as file:\n",
    "    for i in range(298):\n",
    "        print(i+1, 'of', 298)\n",
    "        data = pickle.load(file)\n",
    "        topic_id = list(data.keys())[0]\n",
    "        record = list(data.values())[0]\n",
    "        doc_list_encoded = []\n",
    "        for i in tqdm(range(100)):\n",
    "            id = record[i]\n",
    "            index = id[0:9]\n",
    "            doc_id = ':'.join((index, id))\n",
    "            uid = uuid.uuid5(uuid.NAMESPACE_URL, doc_id)\n",
    "            doc_index = 'cw09' if index == 'clueweb09' else 'cw12'\n",
    "            url = 'https://www.chatnoir.eu/cache?apikey=' + api_key + '&uuid=' + str(uid) + '&index=' + doc_index +'&raw&plain'\n",
    "            doc = requests.get(url).text\n",
    "            doc = BeautifulSoup(doc, \"lxml\").text.replace('\\n', ' ')\n",
    "            doc_list_encoded.append(bert_model.encode(doc))\n",
    "        add_dict = {topic_id: {\n",
    "            'encoded_docs': doc_list_encoded\n",
    "        }}\n",
    "        pickle.dump(add_dict, writefile)"
   ]
  },
  {
   "cell_type": "code",
   "execution_count": null,
   "metadata": {
    "scrolled": true
   },
   "outputs": [],
   "source": [
    "data = pd.read_pickle('./data/top10k_docs_dict.pkl')\n",
    "topics = list(data.keys())\n",
    "\n",
    "with open('retrieved_docs_encoded.pkl', 'wb') as writefile:\n",
    "  for i in range(len(topics)):\n",
    "      print('Topic no:', i, '/298')\n",
    "      record = data[topics[i]]\n",
    "      topic_id = topics[i]\n",
    "      doc_list_encoded = []\n",
    "      doc_list = []\n",
    "      for i in tqdm(range(100)):\n",
    "          id = record[i]\n",
    "          index = id[0:9]\n",
    "          doc_id = ':'.join((index, id))\n",
    "          uid = uuid.uuid5(uuid.NAMESPACE_URL, doc_id)\n",
    "          doc_index = 'cw09' if index == 'clueweb09' else 'cw12'\n",
    "          url = 'https://www.chatnoir.eu/cache?apikey=' + api_key + '&uuid=' + str(uid) + '&index=' + doc_index +'&raw&plain'\n",
    "          doc = requests.get(url).text\n",
    "          doc = BeautifulSoup(doc, \"lxml\").text.replace('\\n', ' ')\n",
    "          doc_list.append(doc)\n",
    "          doc_list_encoded.append(bert_model.encode(doc))\n",
    "      add_dict = {topic_id: {\n",
    "          \"docs\": doc_list,\n",
    "          \"encoded_docs\": doc_list_encoded\n",
    "      }}\n",
    "      pickle.dump(add_dict, writefile)"
   ]
  },
  {
   "cell_type": "code",
   "execution_count": null,
   "metadata": {},
   "outputs": [],
   "source": [
    "from sklearn.decomposition import PCA\n",
    "import numpy as np\n",
    "enc = np.array(data['encoded_docs'])\n",
    "pca = PCA(n_components=2)\n",
    "pca.fit(enc)"
   ]
  },
  {
   "cell_type": "code",
   "execution_count": null,
   "metadata": {},
   "outputs": [],
   "source": [
    "enc_pca = pca.transform(enc)"
   ]
  },
  {
   "cell_type": "code",
   "execution_count": null,
   "metadata": {},
   "outputs": [],
   "source": [
    "enc_pca"
   ]
  },
  {
   "cell_type": "code",
   "execution_count": null,
   "metadata": {},
   "outputs": [],
   "source": [
    "import matplotlib.pyplot as plt"
   ]
  },
  {
   "cell_type": "code",
   "execution_count": null,
   "metadata": {},
   "outputs": [],
   "source": [
    "plt.scatter(enc_pca[:, 0], enc_pca[:, 1])"
   ]
  },
  {
   "cell_type": "code",
   "execution_count": null,
   "metadata": {},
   "outputs": [],
   "source": [
    "from sklearn.metrics.pairwise import cosine_similarity\n",
    "cosine_similarity(enc)"
   ]
  },
  {
   "cell_type": "code",
   "execution_count": null,
   "metadata": {},
   "outputs": [],
   "source": [
    "data.keys()"
   ]
  },
  {
   "cell_type": "code",
   "execution_count": 2,
   "metadata": {},
   "outputs": [],
   "source": [
    "res =  requests.get('https://www.chatnoir.eu/cache?apikey=83eaf18c-f42b-49e1-8d97-1062f00ac2eb&uuid=6f362e27-9991-5f93-a2d8-1b57f01e26a7&index=cw09&raw&plain')"
   ]
  },
  {
   "cell_type": "code",
   "execution_count": 3,
   "metadata": {},
   "outputs": [],
   "source": [
    "txt = res.text"
   ]
  },
  {
   "cell_type": "code",
   "execution_count": 4,
   "metadata": {
    "scrolled": true
   },
   "outputs": [
    {
     "data": {
      "text/plain": [
       "'<!doctype html>\\n<meta charset=\"utf-8\">\\n<title>A Letter written on Oct 30, 1937</title>\\n<body>\\n\\n<h1>A Letter written on Oct 30, 1937</h1> \\n<p> </p> \\n<blockquote>  Department of Chemistry, Yenching University, Peiping, - October \\n30, 1937.<br>\\n\\n<p> <b>Extracts from the Adolph Diary: 1937.</b> </p> \\n<p> <em>January:</em> Ice skating on the Yenching lake at its prime. EHA, in \\nthe 8th grade, North China American School, makes the hockey team. HMA, \\nfreshman at Mount Holyoke College, amkes her second all-Holyoke athletic team \\n(basketball). WHA Jr., sophomore at Yale University (Calhoun College), works in \\nbiology and plays football and basketball on his college team. DMA (8 yrs.) \\ntutors at home and specializes in dolls. - Through traffic opens on the trunk \\nline railway from Canton to Hankow; great strides in national reconstruction.\\n</p> \\n<p> <em>February:</em> WHA serves on commission of five under the Council of \\nPublic Health to prepare a code of nutrition standards for China. Cereals now \\nsupply 85 percent of the food intake; we urge that this be replaced in part by \\nmore green vegetables and legumes. Milk is not available; imagine asking a \\nhealth officer in America to work out a nutritional regime for school children \\nwithout milk!</p> \\n<p> <em>March:</em> The nutrition research program continues; we are peering \\ninto the reported sub-normal calcium intake of the Chinese dietary, 0.3-0.4 \\ngrams per day. One of our staff is just now conducting a 30-day metabolism \\nstudy on a rural group of 15 subjects at a point 500 miles away; and samples \\nare to be transported back to Peiping for analysis. - Two holidays in March; we \\nagain hike with students to the hills, and roast hot dogs in the ruins of an \\nancient abbey. - We hear Mischa Elman at the Hotel de Pekin.</p> \\n<p> <em>April:</em> Spring vacation; KWA and WHA spend 4 days at the Chin \\nHsien monstery in the hills. There are white pines, temple bells, a trickling \\nspring, and no lectures, no seminars, no telephones.</p> \\n<p> <em>May:</em> HMA plays tennis at Holyoke and decides to major in \\nchemistry. - Professor Niels Bohr visits Peiping and lectures on the atom. - \\nTsinghua and Yenching faculties meet in annual tennis tournament; Yenching wins.\\n</p> \\n<p> <em>June:</em> We exploit our lawn and garden: a moonlight garden party, \\nstudent afternoon teas. The premedical juniors play \\'monopoly\\' all of one \\nafternoon to celebrate their last examination and forget to go home for supper. \\n- Commencement; KWA with EHA and DMA leave for our summer mountain camp on Tai \\nShan. - WHA Jr. and HMA in USA arrange for summer at Silver Bay, N.Y.</p> \\n<p> <em>July:</em> WHA attends Independence Day reception (July 4) at the \\nAmerican Embassy in Peiping and two days later joins the family in Shantung, \\ntaking one of the last trains through to the south.</p> \\n<p> <em>July 8:</em> Friction: Chinese and Japanese military near Peiping; \\nattempts at peaceful settlement; general anxiety. -- Meanwhile all is quiet on \\nthe sacred mountain, our holiday undisturbed: mountain hikes and swimming; WHA \\nstruggles with another packet of chemistry MS.</p> \\n<p> <em>July 27:</em> Communications with Peiping suddenly cease and we know \\nthat the Sino-Japanese conflict has burst into flames.</p> \\n<p> <em>August 1:</em> No mail from the north, only vague rumors of the \\ncapture of Tientsin and Peiping. A wire arrives advising British and Americans \\nin Shantung to leave immediately for the coast. We decide to wait further news \\nand finish eating lunch, but at the same time conjecture what one would choose \\nto pack into a suitcase for a hurried evacuation. At tea another wire arrives: \\nsituation not immediately serious. From our veranda we watch in the distance \\nthe steady procession of Chinese troop trains northward.</p> \\n<p> <em>August 6:</em> A Shanghai daily brings Peiping-Tientsin news: Nankai \\nUniversity bombed and destroyed, some fighting east and west of Peiping; \\nYenching University is intact, and this means our home on the campus is \\nunmolested. Will the universities in Peiping be able to open in September? - \\nTai Shan remains peaceful.</p> \\n<p> <em>August 12-14:</em> Dr. &amp; Mrs. EDH, guests from America, arrive via \\nShanghai for brief visit and rush back again. Trains suddenly become irregular; \\nhostilities at Shanghai; will they be able to make steamer connections for USA?\\n</p> \\n<p> <em>August 15:</em> Wire from American consul asks us to evacuate to the \\nport of Tsingtao; there is fear railways will be cut; we pack trunks and leave \\nthe next day. We pass trains crowded with Chinese citizenry in flight from the \\ncities to the country districts. - Tsingtao streets deserted; nervous tension; \\na motor truck backfires and sends frightened pedestrians to shelter. We \\npatronize the swimming beach. - News arrives that Peiping is quiet, hostilities \\nover, and that Yenching will open. We resolve to return home by first steamer \\nnorth. Banks refuse our Shanghai checks; American consulate advances funds.</p> \\n<p> <em>August 23:</em> Steamer schedules no longer exist, but hearing that \\nthe S. S. Hupeh (British) leaves for Tientsin to-day we rush aboard and sail \\nthis afternoon. - British, American and Japanese gunboats crowd the harbor.</p> \\n<p> <em>August 26-27:</em> Arrive at Tientsin; we have sailed around the war \\nzone and are now in the occupied territory north of the battle front. Foreign \\nconcessions at Tientsin are filled with rumors and refugees. The train to \\nPeiping takes 6 hours instead of the accustomed 2 hours, but this is much \\nbetter than the 12-hour schedule of a week ago. The Japanese army of occupation \\nis very much in evidence: military police on the train and a heavily armed \\nguard at each station. Peiping looks normal, the campus as attractive as ever; \\nthe university is flying the American flag.</p> \\n<p> <em>September 2:</em> Aeroplanes overhead, heavy cannonading, active \\nfighting on the front 20 miles southwest of Peiping. Tanks and supply trains \\nmotor past our campus. - Our bus to the city is stopped at the Hsi Chih gate \\nfor regular military inspection.</p> \\n<p> <em>September 8:</em> A week of night raids by robbers near the campus. \\nThe suburban police, disarmed when Peiping was occupied, are practically \\nhelpless. Stores and shops nearby are closing and residents moving away. - EHA \\nand DMA start class work at the American School.</p> \\n<p> <em>September 10:</em> Professor Chen\\'s home on edge of campus visited by \\ndesperadoes who relieve him of $200. Next morning police report capture of an \\nentire burglar band plus $200.; they were armed with toy pistols!</p> \\n<p> <em>September 13:</em> Yenching opens; enrollment 500, instead of our \\nusual 800. Five other universities in the city remain closed. Safe conducts are \\narranged for students and staff travelling from Tientsin. Half of chemistry \\nstaff are delayed, the rest of us carry double teaching loads. - The Chinese \\npostal service, most adaptable of all organizations, still functions and gets \\nthe mails through. Shanghai mail, normally requiring 36 hours, now requires 3 \\nweeks. American mail 8-10 weeks. - Vigorous censorship; most of the newspapers \\nsuppressed or reorganized under new dispensation; the Peiping Chronicle \\n(English) continues. Communism is the principal focus of attack, and school \\ntextbooks are censored to eliminate objectionable ideas.</p> \\n<p> <em>September 21:</em> A cholera scare; we taste Japanese efficiency; all \\ntravellers and commuters into the city must receive injections. - Business in \\nPeiping at a standstill; thousands out of emplyment; special relief campaign. \\nYenching staff respond to university financial difficulties by voting a salary \\ncut.</p> \\n<p> <em>October:</em> Few tourist visitors, unusually small group of exchange \\nprofessors at Yenching. Scientific societies have cancelled their 1937 meetings \\nand research institutions have ceased work or moved. Journals are moving \\neditorial offices from the bombed areas. - In Peiping many phases of life \\nflourish in spite of hostilities: the Institute of Fine Arts, International \\nClub, Society of Natural History, Society of Experimental Biology and Medicine. \\nPeiping, it is rumored, will be renamed Peking. Another report says we are to \\nhave automatic telephones; this will save time, but we will no longer make a \\nhypothetical bow to the operator in making a call. - The political atmosphere \\nat present is clouded, but the outlook is bright. There is every reason for \\noptimism; we are seeing one of the struggles that is developing modern China. - \\nMails from abroad bring anxious inquiries about the fate of Peiping. Please be \\nassured we are hard at work, oru laboratory program continues and Yenching \\nUniversity carries on! - We send best wishes and holiday greetings!</p> \\n<p> Wm. H. Adolph. </p> </blockquote> \\n</body>'"
      ]
     },
     "execution_count": 4,
     "metadata": {},
     "output_type": "execute_result"
    }
   ],
   "source": [
    "txt"
   ]
  },
  {
   "cell_type": "code",
   "execution_count": 5,
   "metadata": {},
   "outputs": [],
   "source": [
    "cleantext = BeautifulSoup(txt, \"lxml\").text.replace('\\n', ' ')"
   ]
  },
  {
   "cell_type": "code",
   "execution_count": 6,
   "metadata": {
    "scrolled": true
   },
   "outputs": [
    {
     "data": {
      "text/plain": [
       "\" A Letter written on Oct 30, 1937  A Letter written on Oct 30, 1937     Department of Chemistry, Yenching University, Peiping, - October  30, 1937.  Extracts from the Adolph Diary: 1937.   January: Ice skating on the Yenching lake at its prime. EHA, in  the 8th grade, North China American School, makes the hockey team. HMA,  freshman at Mount Holyoke College, amkes her second all-Holyoke athletic team  (basketball). WHA Jr., sophomore at Yale University (Calhoun College), works in  biology and plays football and basketball on his college team. DMA (8 yrs.)  tutors at home and specializes in dolls. - Through traffic opens on the trunk  line railway from Canton to Hankow; great strides in national reconstruction.   February: WHA serves on commission of five under the Council of  Public Health to prepare a code of nutrition standards for China. Cereals now  supply 85 percent of the food intake; we urge that this be replaced in part by  more green vegetables and legumes. Milk is not available; imagine asking a  health officer in America to work out a nutritional regime for school children  without milk!  March: The nutrition research program continues; we are peering  into the reported sub-normal calcium intake of the Chinese dietary, 0.3-0.4  grams per day. One of our staff is just now conducting a 30-day metabolism  study on a rural group of 15 subjects at a point 500 miles away; and samples  are to be transported back to Peiping for analysis. - Two holidays in March; we  again hike with students to the hills, and roast hot dogs in the ruins of an  ancient abbey. - We hear Mischa Elman at the Hotel de Pekin.  April: Spring vacation; KWA and WHA spend 4 days at the Chin  Hsien monstery in the hills. There are white pines, temple bells, a trickling  spring, and no lectures, no seminars, no telephones.  May: HMA plays tennis at Holyoke and decides to major in  chemistry. - Professor Niels Bohr visits Peiping and lectures on the atom. -  Tsinghua and Yenching faculties meet in annual tennis tournament; Yenching wins.   June: We exploit our lawn and garden: a moonlight garden party,  student afternoon teas. The premedical juniors play 'monopoly' all of one  afternoon to celebrate their last examination and forget to go home for supper.  - Commencement; KWA with EHA and DMA leave for our summer mountain camp on Tai  Shan. - WHA Jr. and HMA in USA arrange for summer at Silver Bay, N.Y.  July: WHA attends Independence Day reception (July 4) at the  American Embassy in Peiping and two days later joins the family in Shantung,  taking one of the last trains through to the south.  July 8: Friction: Chinese and Japanese military near Peiping;  attempts at peaceful settlement; general anxiety. -- Meanwhile all is quiet on  the sacred mountain, our holiday undisturbed: mountain hikes and swimming; WHA  struggles with another packet of chemistry MS.  July 27: Communications with Peiping suddenly cease and we know  that the Sino-Japanese conflict has burst into flames.  August 1: No mail from the north, only vague rumors of the  capture of Tientsin and Peiping. A wire arrives advising British and Americans  in Shantung to leave immediately for the coast. We decide to wait further news  and finish eating lunch, but at the same time conjecture what one would choose  to pack into a suitcase for a hurried evacuation. At tea another wire arrives:  situation not immediately serious. From our veranda we watch in the distance  the steady procession of Chinese troop trains northward.  August 6: A Shanghai daily brings Peiping-Tientsin news: Nankai  University bombed and destroyed, some fighting east and west of Peiping;  Yenching University is intact, and this means our home on the campus is  unmolested. Will the universities in Peiping be able to open in September? -  Tai Shan remains peaceful.  August 12-14: Dr. & Mrs. EDH, guests from America, arrive via  Shanghai for brief visit and rush back again. Trains suddenly become irregular;  hostilities at Shanghai; will they be able to make steamer connections for USA?   August 15: Wire from American consul asks us to evacuate to the  port of Tsingtao; there is fear railways will be cut; we pack trunks and leave  the next day. We pass trains crowded with Chinese citizenry in flight from the  cities to the country districts. - Tsingtao streets deserted; nervous tension;  a motor truck backfires and sends frightened pedestrians to shelter. We  patronize the swimming beach. - News arrives that Peiping is quiet, hostilities  over, and that Yenching will open. We resolve to return home by first steamer  north. Banks refuse our Shanghai checks; American consulate advances funds.  August 23: Steamer schedules no longer exist, but hearing that  the S. S. Hupeh (British) leaves for Tientsin to-day we rush aboard and sail  this afternoon. - British, American and Japanese gunboats crowd the harbor.  August 26-27: Arrive at Tientsin; we have sailed around the war  zone and are now in the occupied territory north of the battle front. Foreign  concessions at Tientsin are filled with rumors and refugees. The train to  Peiping takes 6 hours instead of the accustomed 2 hours, but this is much  better than the 12-hour schedule of a week ago. The Japanese army of occupation  is very much in evidence: military police on the train and a heavily armed  guard at each station. Peiping looks normal, the campus as attractive as ever;  the university is flying the American flag.  September 2: Aeroplanes overhead, heavy cannonading, active  fighting on the front 20 miles southwest of Peiping. Tanks and supply trains  motor past our campus. - Our bus to the city is stopped at the Hsi Chih gate  for regular military inspection.  September 8: A week of night raids by robbers near the campus.  The suburban police, disarmed when Peiping was occupied, are practically  helpless. Stores and shops nearby are closing and residents moving away. - EHA  and DMA start class work at the American School.  September 10: Professor Chen's home on edge of campus visited by  desperadoes who relieve him of $200. Next morning police report capture of an  entire burglar band plus $200.; they were armed with toy pistols!  September 13: Yenching opens; enrollment 500, instead of our  usual 800. Five other universities in the city remain closed. Safe conducts are  arranged for students and staff travelling from Tientsin. Half of chemistry  staff are delayed, the rest of us carry double teaching loads. - The Chinese  postal service, most adaptable of all organizations, still functions and gets  the mails through. Shanghai mail, normally requiring 36 hours, now requires 3  weeks. American mail 8-10 weeks. - Vigorous censorship; most of the newspapers  suppressed or reorganized under new dispensation; the Peiping Chronicle  (English) continues. Communism is the principal focus of attack, and school  textbooks are censored to eliminate objectionable ideas.  September 21: A cholera scare; we taste Japanese efficiency; all  travellers and commuters into the city must receive injections. - Business in  Peiping at a standstill; thousands out of emplyment; special relief campaign.  Yenching staff respond to university financial difficulties by voting a salary  cut.  October: Few tourist visitors, unusually small group of exchange  professors at Yenching. Scientific societies have cancelled their 1937 meetings  and research institutions have ceased work or moved. Journals are moving  editorial offices from the bombed areas. - In Peiping many phases of life  flourish in spite of hostilities: the Institute of Fine Arts, International  Club, Society of Natural History, Society of Experimental Biology and Medicine.  Peiping, it is rumored, will be renamed Peking. Another report says we are to  have automatic telephones; this will save time, but we will no longer make a  hypothetical bow to the operator in making a call. - The political atmosphere  at present is clouded, but the outlook is bright. There is every reason for  optimism; we are seeing one of the struggles that is developing modern China. -  Mails from abroad bring anxious inquiries about the fate of Peiping. Please be  assured we are hard at work, oru laboratory program continues and Yenching  University carries on! - We send best wishes and holiday greetings!  Wm. H. Adolph.   \""
      ]
     },
     "execution_count": 6,
     "metadata": {},
     "output_type": "execute_result"
    }
   ],
   "source": [
    "cleantext"
   ]
  },
  {
   "cell_type": "code",
   "execution_count": null,
   "metadata": {},
   "outputs": [],
   "source": [
    "r = Rake()\n",
    "r.extract_keywords_from_text(cleantext)\n",
    "len(r.get_ranked_phrases()[0])"
   ]
  },
  {
   "cell_type": "code",
   "execution_count": null,
   "metadata": {},
   "outputs": [],
   "source": [
    "doc_list_encoded"
   ]
  },
  {
   "cell_type": "code",
   "execution_count": null,
   "metadata": {},
   "outputs": [],
   "source": [
    "f = open('retrieved_docs_encoded.pkl', 'rb')\n",
    "pickle.load(f)"
   ]
  },
  {
   "cell_type": "code",
   "execution_count": null,
   "metadata": {},
   "outputs": [],
   "source": [
    "id = uuid.uuid5(uuid.NAMESPACE_URL, \"clueweb09:clueweb09-en0008-56-34223\")\n",
    "id"
   ]
  },
  {
   "cell_type": "code",
   "execution_count": null,
   "metadata": {},
   "outputs": [],
   "source": [
    "url = \"https://www.chatnoir.eu/api/v1/_search\"\n",
    "data = {\n",
    "    \"apikey\": \"83eaf18c-f42b-49e1-8d97-1062f00ac2eb\",\n",
    "    \"query\": \"clueweb09-en0008-56-34223\",\n",
    "    \"index\": [\"cw09\", \"cw12\"],\n",
    "    \"pretty\": True\n",
    "}"
   ]
  },
  {
   "cell_type": "code",
   "execution_count": null,
   "metadata": {},
   "outputs": [],
   "source": [
    "res = requests.post(url, data = data, timeout=2.50)"
   ]
  },
  {
   "cell_type": "code",
   "execution_count": null,
   "metadata": {},
   "outputs": [],
   "source": [
    "res = list(res)"
   ]
  },
  {
   "cell_type": "code",
   "execution_count": null,
   "metadata": {},
   "outputs": [],
   "source": [
    "res.json()"
   ]
  },
  {
   "cell_type": "code",
   "execution_count": null,
   "metadata": {},
   "outputs": [],
   "source": [
    "res[1]"
   ]
  },
  {
   "cell_type": "code",
   "execution_count": null,
   "metadata": {},
   "outputs": [],
   "source": [
    "res =  requests.get('https://www.chatnoir.eu/cache?apikey=83eaf18c-f42b-49e1-8d97-1062f00ac2eb&uuid=6f362e27-9991-5f93-a2d8-1b57f01e26a7&index=cw09&raw&plain')"
   ]
  },
  {
   "cell_type": "code",
   "execution_count": null,
   "metadata": {
    "scrolled": true
   },
   "outputs": [],
   "source": [
    "res.text"
   ]
  },
  {
   "cell_type": "code",
   "execution_count": null,
   "metadata": {},
   "outputs": [],
   "source": [
    "f = open('retrieved_docs_encoded.pkl', 'rb')"
   ]
  },
  {
   "cell_type": "code",
   "execution_count": null,
   "metadata": {},
   "outputs": [],
   "source": [
    "data = pickle.load(f)\n",
    "data.keys()"
   ]
  },
  {
   "cell_type": "code",
   "execution_count": null,
   "metadata": {},
   "outputs": [],
   "source": [
    "#from sklearn.decomposition import PCA\n",
    "#from sklearn.cluster import KMeans\n",
    "import numpy as np\n",
    "import sklearn\n",
    "import matplotlib.pyplot as plt\n",
    "from sklearn.preprocessing import StandardScaler"
   ]
  },
  {
   "cell_type": "code",
   "execution_count": null,
   "metadata": {},
   "outputs": [],
   "source": [
    "data = list(data.values())[0]"
   ]
  },
  {
   "cell_type": "code",
   "execution_count": null,
   "metadata": {},
   "outputs": [],
   "source": [
    "enc = np.array(data['encoded_docs'])[:50]"
   ]
  },
  {
   "cell_type": "code",
   "execution_count": null,
   "metadata": {},
   "outputs": [],
   "source": [
    "pca = PCA(n_components=2)\n",
    "pca.fit(enc)"
   ]
  },
  {
   "cell_type": "code",
   "execution_count": null,
   "metadata": {},
   "outputs": [],
   "source": [
    "enc_pca = pca.transform(data['encoded_docs'])"
   ]
  },
  {
   "cell_type": "code",
   "execution_count": null,
   "metadata": {},
   "outputs": [],
   "source": [
    "plt.scatter(enc_pca[:, 0], enc_pca[:, 1])"
   ]
  },
  {
   "cell_type": "code",
   "execution_count": null,
   "metadata": {},
   "outputs": [],
   "source": [
    "kmeans = KMeans(n_clusters=10, random_state=0).fit(enc_pca)"
   ]
  },
  {
   "cell_type": "code",
   "execution_count": null,
   "metadata": {
    "scrolled": true
   },
   "outputs": [],
   "source": [
    "labels = kmeans.labels_"
   ]
  },
  {
   "cell_type": "code",
   "execution_count": null,
   "metadata": {},
   "outputs": [],
   "source": [
    "filtered_enc_pca_0 = enc_pca[labels == 0]"
   ]
  },
  {
   "cell_type": "code",
   "execution_count": null,
   "metadata": {},
   "outputs": [],
   "source": [
    "plt.scatter(filtered_enc_pca_0[:, 0], filtered_enc_pca_0[:, 1])"
   ]
  },
  {
   "cell_type": "code",
   "execution_count": null,
   "metadata": {},
   "outputs": [],
   "source": [
    "filtered_enc = enc[labels == 0]"
   ]
  },
  {
   "cell_type": "code",
   "execution_count": null,
   "metadata": {},
   "outputs": [],
   "source": [
    "similarity = sklearn.metrics.pairwise.cosine_similarity(filtered_enc)\n",
    "sklearn.metrics.pairwise.cosine_similarity(filtered_enc)"
   ]
  },
  {
   "cell_type": "code",
   "execution_count": null,
   "metadata": {},
   "outputs": [],
   "source": [
    "np.mean(np.mean(similarity))"
   ]
  },
  {
   "cell_type": "code",
   "execution_count": null,
   "metadata": {},
   "outputs": [],
   "source": [
    "from sklearn.cluster import DBSCAN"
   ]
  },
  {
   "cell_type": "code",
   "execution_count": null,
   "metadata": {},
   "outputs": [],
   "source": [
    "enc = enc[:50]"
   ]
  },
  {
   "cell_type": "code",
   "execution_count": null,
   "metadata": {},
   "outputs": [],
   "source": [
    "clustering = DBSCAN().fit(enc)"
   ]
  },
  {
   "cell_type": "code",
   "execution_count": null,
   "metadata": {
    "scrolled": true
   },
   "outputs": [],
   "source": [
    "clustering.labels_"
   ]
  },
  {
   "cell_type": "code",
   "execution_count": null,
   "metadata": {},
   "outputs": [],
   "source": [
    "enc_0 = enc[clustering.labels_ == 0]\n",
    "enc_1 = enc[clustering.labels_ == -1]"
   ]
  },
  {
   "cell_type": "code",
   "execution_count": null,
   "metadata": {},
   "outputs": [],
   "source": [
    "pca = PCA(n_components = 2)"
   ]
  },
  {
   "cell_type": "code",
   "execution_count": null,
   "metadata": {},
   "outputs": [],
   "source": [
    "pca.fit(enc)"
   ]
  },
  {
   "cell_type": "code",
   "execution_count": null,
   "metadata": {},
   "outputs": [],
   "source": [
    "enc_0_pca = pca.transform(enc_0)"
   ]
  },
  {
   "cell_type": "code",
   "execution_count": null,
   "metadata": {},
   "outputs": [],
   "source": [
    "enc_1_pca = pca.transform(enc_1)"
   ]
  },
  {
   "cell_type": "code",
   "execution_count": null,
   "metadata": {},
   "outputs": [],
   "source": [
    "#plt.scatter(enc_0_pca[:, 0], enc_0_pca[:, 1])\n",
    "plt.scatter(enc_1_pca[:, 0], enc_1_pca[:, 1])"
   ]
  },
  {
   "cell_type": "code",
   "execution_count": null,
   "metadata": {},
   "outputs": [],
   "source": [
    "import umap"
   ]
  },
  {
   "cell_type": "code",
   "execution_count": null,
   "metadata": {},
   "outputs": [],
   "source": [
    "reducer = umap.UMAP()"
   ]
  },
  {
   "cell_type": "code",
   "execution_count": null,
   "metadata": {},
   "outputs": [],
   "source": [
    "scaled_data = StandardScaler().fit_transform(enc)"
   ]
  },
  {
   "cell_type": "code",
   "execution_count": null,
   "metadata": {},
   "outputs": [],
   "source": [
    "embedding = reducer.fit_transform(scaled_data)\n",
    "embedding.shape"
   ]
  },
  {
   "cell_type": "code",
   "execution_count": null,
   "metadata": {},
   "outputs": [],
   "source": [
    "plt.scatter(\n",
    "    embedding[:, 0],\n",
    "    embedding[:, 1])"
   ]
  },
  {
   "cell_type": "code",
   "execution_count": null,
   "metadata": {},
   "outputs": [],
   "source": [
    "r = Rake()"
   ]
  },
  {
   "cell_type": "code",
   "execution_count": null,
   "metadata": {
    "scrolled": true
   },
   "outputs": [],
   "source": [
    "f = open('retrieved_docs_encoded.pkl', 'rb')\n",
    "\n",
    "with open('retrieved_docs_keywords.pkl', 'wb') as writefile:\n",
    "  for i in range(298):\n",
    "      print('Topic no:', i, '/298')\n",
    "      data = pickle.load(f)\n",
    "      topic_id = list(data.keys())[0]\n",
    "      record = list(data.values())[0]\n",
    "      doc_list = record['docs']\n",
    "      kw_list = []\n",
    "      summary_list = []\n",
    "      for j in tqdm(range(100)):\n",
    "          doc = doc_list[j]\n",
    "          r.extract_keywords_from_text(doc)\n",
    "          klist = r.get_ranked_phrases()\n",
    "          summary = '. '.join(klist[:100])\n",
    "          kw_list.append(klist)\n",
    "          summary_list.append(summary)\n",
    "      add_dict = {topic_id: {\n",
    "          \"docs\": doc_list,\n",
    "          \"keywords\": kw_list,\n",
    "          \"summary\": summary_list\n",
    "      }}\n",
    "      pickle.dump(add_dict, writefile)"
   ]
  },
  {
   "cell_type": "code",
   "execution_count": null,
   "metadata": {},
   "outputs": [],
   "source": [
    "f = open('retrieved_docs_encoded.pkl', 'rb')"
   ]
  },
  {
   "cell_type": "code",
   "execution_count": null,
   "metadata": {},
   "outputs": [],
   "source": [
    "data = pickle.load(f)\n",
    "data"
   ]
  },
  {
   "cell_type": "code",
   "execution_count": null,
   "metadata": {},
   "outputs": [],
   "source": []
  }
 ],
 "metadata": {
  "kernelspec": {
   "display_name": "Python 3.8.3 64-bit",
   "language": "python",
   "name": "python38364bit54af622977484619b47ea42e3ff533e7"
  },
  "language_info": {
   "codemirror_mode": {
    "name": "ipython",
    "version": 3
   },
   "file_extension": ".py",
   "mimetype": "text/x-python",
   "name": "python",
   "nbconvert_exporter": "python",
   "pygments_lexer": "ipython3",
   "version": "3.8.3"
  }
 },
 "nbformat": 4,
 "nbformat_minor": 4
}
